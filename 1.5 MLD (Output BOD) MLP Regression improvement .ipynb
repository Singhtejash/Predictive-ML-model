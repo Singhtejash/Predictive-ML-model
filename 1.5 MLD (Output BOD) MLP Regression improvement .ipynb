{
 "cells": [
  {
   "cell_type": "markdown",
   "id": "a929b9e1-2d60-4c99-ad4a-60f963745b34",
   "metadata": {},
   "source": [
    "# MLP Regression improvement"
   ]
  },
  {
   "cell_type": "code",
   "execution_count": 1,
   "id": "af36538e",
   "metadata": {},
   "outputs": [],
   "source": [
    "import pandas as pd\n",
    "import numpy as np\n",
    "from sklearn.model_selection import train_test_split\n",
    "from sklearn.neural_network import MLPRegressor\n",
    "from sklearn.metrics import mean_squared_error, r2_score\n",
    "import matplotlib.pyplot as plt\n",
    "import seaborn as sns\n",
    "from scipy.stats import linregress\n",
    "from sklearn.preprocessing import StandardScaler\n",
    "from sklearn.model_selection import GridSearchCV"
   ]
  },
  {
   "cell_type": "markdown",
   "id": "637b8890-23e2-48b8-8669-ed45406750ad",
   "metadata": {},
   "source": [
    "### Load data"
   ]
  },
  {
   "cell_type": "code",
   "execution_count": 2,
   "id": "26502fbb-424d-4cd4-a12d-917daeabc12d",
   "metadata": {},
   "outputs": [],
   "source": [
    "# Load data\n",
    "df = pd.read_excel(\"1.5 MLD (Outlet BOD).xlsx\")"
   ]
  },
  {
   "cell_type": "markdown",
   "id": "133396d2-6933-421c-9e33-1680dec3854c",
   "metadata": {},
   "source": [
    "### Separate X and y"
   ]
  },
  {
   "cell_type": "code",
   "execution_count": 3,
   "id": "26399bbc-fbc7-4200-a9f4-76e42c09fdab",
   "metadata": {},
   "outputs": [],
   "source": [
    "# Separate X and y\n",
    "y = df['STP_Outlet-BOD_U']\n",
    "x = df.drop('STP_Outlet-BOD_U', axis=1)\n",
    "\n",
    "# Data preprocessing: Standardize features\n",
    "scaler = StandardScaler()\n",
    "x_scaled = scaler.fit_transform(x)\n",
    "\n",
    "# Split data\n",
    "x_train, x_test, y_train, y_test = train_test_split(x_scaled, y, test_size=0.2, random_state=100)\n"
   ]
  },
  {
   "cell_type": "markdown",
   "id": "0df21989-efa3-4352-a57e-5e49cf052e3f",
   "metadata": {},
   "source": [
    "### Hyperparameter tuning"
   ]
  },
  {
   "cell_type": "code",
   "execution_count": 29,
   "id": "f021a8ba-7f16-4ab9-8849-ae15b1ae170c",
   "metadata": {},
   "outputs": [],
   "source": [
    "# Hyperparameter tuning\n",
    "param_grid = {\n",
    "    'hidden_layer_sizes': [(32, 64, 64), (64, 128, 128)],\n",
    "    'activation': ['relu', 'tanh'],\n",
    "    'solver': ['adam'],\n",
    "    'alpha': [0.0001, 0.001],\n",
    "    'max_iter': [200, 300],\n",
    "    'batch_size': [16, 32],\n",
    "}\n",
    "\n",
    "mlp_model = MLPRegressor(random_state=50)\n",
    "grid_search = GridSearchCV(mlp_model, param_grid, cv=7, n_jobs=-1)\n",
    "grid_search.fit(x_train, y_train)\n",
    "best_model = grid_search.best_estimator_"
   ]
  },
  {
   "cell_type": "markdown",
   "id": "85945aeb-7089-4c7a-8ce2-06994e042494",
   "metadata": {},
   "source": [
    "### Train the best model"
   ]
  },
  {
   "cell_type": "code",
   "execution_count": 30,
   "id": "a808be10-0384-47ba-acea-63ab8f51820d",
   "metadata": {},
   "outputs": [],
   "source": [
    "# Train the best model\n",
    "best_model.fit(x_train, y_train)\n",
    "\n",
    "# Predict on training set and testing set\n",
    "y_pred_train = best_model.predict(x_train)\n",
    "y_pred_test = best_model.predict(x_test)"
   ]
  },
  {
   "cell_type": "markdown",
   "id": "60d8b58d-421e-4376-98a7-58b84dcd4288",
   "metadata": {},
   "source": [
    "### Calculate metrics"
   ]
  },
  {
   "cell_type": "code",
   "execution_count": 31,
   "id": "e52a0c17-ec46-442b-aea2-ac0e4ef6dc66",
   "metadata": {},
   "outputs": [],
   "source": [
    "# Calculate metrics for training set\n",
    "mse_train = mean_squared_error(y_train, y_pred_train)\n",
    "r2_train = r2_score(y_train, y_pred_train)"
   ]
  },
  {
   "cell_type": "code",
   "execution_count": 32,
   "id": "882b7d11-2646-41be-9c5d-83a51407dec6",
   "metadata": {},
   "outputs": [],
   "source": [
    "# Calculate metrics for testing set\n",
    "mse_test = mean_squared_error(y_test, y_pred_test)\n",
    "r2_test = r2_score(y_test, y_pred_test)"
   ]
  },
  {
   "cell_type": "markdown",
   "id": "9449edbb-cc1d-48dc-be4f-bf42b59456ee",
   "metadata": {},
   "source": [
    "### Print metrics for both sets"
   ]
  },
  {
   "cell_type": "code",
   "execution_count": 33,
   "id": "52d4d555-34dd-4be2-a13c-9e8f529340bf",
   "metadata": {},
   "outputs": [
    {
     "name": "stdout",
     "output_type": "stream",
     "text": [
      "Training Set Metrics:\n",
      "Mean Squared Error (MSE) on Training Set: 0.17704179838420347\n",
      "R-squared (R2) on Training Set: 0.9025809842444747\n",
      "\n",
      "Testing Set Metrics:\n",
      "Mean Squared Error (MSE) on Testing Set: 0.6656229302548105\n",
      "R-squared (R2) on Testing Set: 0.6064250677716614\n"
     ]
    }
   ],
   "source": [
    "# Print metrics for both sets\n",
    "print(\"Training Set Metrics:\")\n",
    "print(\"Mean Squared Error (MSE) on Training Set:\", mse_train)\n",
    "print(\"R-squared (R2) on Training Set:\", r2_train)\n",
    "print(\"\\nTesting Set Metrics:\")\n",
    "print(\"Mean Squared Error (MSE) on Testing Set:\", mse_test)\n",
    "print(\"R-squared (R2) on Testing Set:\", r2_test)"
   ]
  },
  {
   "cell_type": "code",
   "execution_count": 34,
   "id": "a941ce95-2521-4f0f-ba90-d90dd23a1721",
   "metadata": {},
   "outputs": [
    {
     "name": "stdout",
     "output_type": "stream",
     "text": [
      "Training Set Metrics:\n",
      "Mean Squared Error (MSE) on Training Set: 0.17704179838420347\n",
      "R-squared (R2) on Training Set: 0.9025809842444747\n",
      "\n",
      "Testing Set Metrics:\n",
      "Mean Squared Error (MSE) on Testing Set: 0.6656229302548105\n",
      "R-squared (R2) on Testing Set: 0.6064250677716614\n"
     ]
    }
   ],
   "source": [
    "# Print metrics for both sets\n",
    "print(\"Training Set Metrics:\")\n",
    "print(\"Mean Squared Error (MSE) on Training Set:\", mse_train)\n",
    "print(\"R-squared (R2) on Training Set:\", r2_train)\n",
    "print(\"\\nTesting Set Metrics:\")\n",
    "print(\"Mean Squared Error (MSE) on Testing Set:\", mse_test)\n",
    "print(\"R-squared (R2) on Testing Set:\", r2_test)"
   ]
  },
  {
   "cell_type": "markdown",
   "id": "09ac9df6-af09-4642-885d-84e2eb18107e",
   "metadata": {},
   "source": [
    "### Create a scatter plot with a regression line"
   ]
  },
  {
   "cell_type": "code",
   "execution_count": 35,
   "id": "d13c54f2",
   "metadata": {},
   "outputs": [
    {
     "name": "stderr",
     "output_type": "stream",
     "text": [
      "C:\\Users\\Tejash\\AppData\\Local\\Programs\\Python\\Python311\\Lib\\site-packages\\seaborn\\_oldcore.py:1498: FutureWarning: is_categorical_dtype is deprecated and will be removed in a future version. Use isinstance(dtype, CategoricalDtype) instead\n",
      "  if pd.api.types.is_categorical_dtype(vector):\n",
      "C:\\Users\\Tejash\\AppData\\Local\\Programs\\Python\\Python311\\Lib\\site-packages\\seaborn\\_oldcore.py:1498: FutureWarning: is_categorical_dtype is deprecated and will be removed in a future version. Use isinstance(dtype, CategoricalDtype) instead\n",
      "  if pd.api.types.is_categorical_dtype(vector):\n"
     ]
    },
    {
     "data": {
      "image/png": "[encoded data removed]",
      "text/plain": [
       "<Figure size 1000x500 with 1 Axes>"
      ]
     },
     "metadata": {},
     "output_type": "display_data"
    }
   ],
   "source": [
    "# Create a scatter plot with a regression line\n",
    "plt.figure(figsize=(10, 5))\n",
    "sns.scatterplot(x=y_test, y=y_pred_test)\n",
    "plt.title('Actual vs. Predicted Values (Testing Set)')\n",
    "plt.xlabel('Actual Values')\n",
    "plt.ylabel('Predicted Values')\n",
    "\n",
    "# Fit a linear regression model to the data\n",
    "regression_line = linregress(y_test, y_pred_test)\n",
    "plt.plot(y_test, regression_line.intercept + regression_line.slope * y_test, color='red')\n",
    "\n",
    "plt.show()\n"
   ]
  },
  {
   "cell_type": "code",
   "execution_count": null,
   "id": "c582ade0",
   "metadata": {},
   "outputs": [],
   "source": []
  }
 ],
 "metadata": {
  "kernelspec": {
   "display_name": "Python 3 (ipykernel)",
   "language": "python",
   "name": "python3"
  },
  "language_info": {
   "codemirror_mode": {
    "name": "ipython",
    "version": 3
   },
   "file_extension": ".py",
   "mimetype": "text/x-python",
   "name": "python",
   "nbconvert_exporter": "python",
   "pygments_lexer": "ipython3",
   "version": "3.11.5"
  }
 },
 "nbformat": 4,
 "nbformat_minor": 5
}
