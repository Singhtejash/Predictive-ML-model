{
 "cells": [
  {
   "cell_type": "code",
   "execution_count": 1,
   "id": "c60cf303",
   "metadata": {},
   "outputs": [],
   "source": [
    "import pandas as pd"
   ]
  },
  {
   "cell_type": "markdown",
   "id": "627950f9",
   "metadata": {},
   "source": [
    "# Data Upload"
   ]
  },
  {
   "cell_type": "code",
   "execution_count": 63,
   "id": "731f54b5",
   "metadata": {},
   "outputs": [
    {
     "data": {
      "text/html": [
       "<div>\n",
       "<style scoped>\n",
       "    .dataframe tbody tr th:only-of-type {\n",
       "        vertical-align: middle;\n",
       "    }\n",
       "\n",
       "    .dataframe tbody tr th {\n",
       "        vertical-align: top;\n",
       "    }\n",
       "\n",
       "    .dataframe thead th {\n",
       "        text-align: right;\n",
       "    }\n",
       "</style>\n",
       "<table border=\"1\" class=\"dataframe\">\n",
       "  <thead>\n",
       "    <tr style=\"text-align: right;\">\n",
       "      <th></th>\n",
       "      <th>STP_Inlet-COD_U</th>\n",
       "      <th>STP_Inlet-BOD_U</th>\n",
       "      <th>STP_Inlet-TSS_U</th>\n",
       "      <th>STP_Inlet-Total_nitrogen_U</th>\n",
       "      <th>STP_Inlet-Total Phosphorus_U</th>\n",
       "      <th>STP_Outlet-COD_U</th>\n",
       "    </tr>\n",
       "  </thead>\n",
       "  <tbody>\n",
       "    <tr>\n",
       "      <th>0</th>\n",
       "      <td>170.4</td>\n",
       "      <td>64.4</td>\n",
       "      <td>108.6</td>\n",
       "      <td>67.0</td>\n",
       "      <td>6.3</td>\n",
       "      <td>56.7</td>\n",
       "    </tr>\n",
       "    <tr>\n",
       "      <th>1</th>\n",
       "      <td>170.2</td>\n",
       "      <td>64.3</td>\n",
       "      <td>108.7</td>\n",
       "      <td>76.8</td>\n",
       "      <td>6.1</td>\n",
       "      <td>57.1</td>\n",
       "    </tr>\n",
       "    <tr>\n",
       "      <th>2</th>\n",
       "      <td>175.6</td>\n",
       "      <td>65.0</td>\n",
       "      <td>113.4</td>\n",
       "      <td>64.6</td>\n",
       "      <td>5.7</td>\n",
       "      <td>57.7</td>\n",
       "    </tr>\n",
       "    <tr>\n",
       "      <th>3</th>\n",
       "      <td>173.2</td>\n",
       "      <td>63.3</td>\n",
       "      <td>112.2</td>\n",
       "      <td>83.1</td>\n",
       "      <td>6.1</td>\n",
       "      <td>58.4</td>\n",
       "    </tr>\n",
       "    <tr>\n",
       "      <th>4</th>\n",
       "      <td>170.6</td>\n",
       "      <td>61.6</td>\n",
       "      <td>111.5</td>\n",
       "      <td>52.3</td>\n",
       "      <td>5.0</td>\n",
       "      <td>58.6</td>\n",
       "    </tr>\n",
       "    <tr>\n",
       "      <th>...</th>\n",
       "      <td>...</td>\n",
       "      <td>...</td>\n",
       "      <td>...</td>\n",
       "      <td>...</td>\n",
       "      <td>...</td>\n",
       "      <td>...</td>\n",
       "    </tr>\n",
       "    <tr>\n",
       "      <th>362</th>\n",
       "      <td>259.8</td>\n",
       "      <td>143.2</td>\n",
       "      <td>160.8</td>\n",
       "      <td>2.9</td>\n",
       "      <td>6.8</td>\n",
       "      <td>41.1</td>\n",
       "    </tr>\n",
       "    <tr>\n",
       "      <th>363</th>\n",
       "      <td>266.3</td>\n",
       "      <td>143.3</td>\n",
       "      <td>170.9</td>\n",
       "      <td>6.7</td>\n",
       "      <td>6.8</td>\n",
       "      <td>41.4</td>\n",
       "    </tr>\n",
       "    <tr>\n",
       "      <th>364</th>\n",
       "      <td>280.7</td>\n",
       "      <td>142.0</td>\n",
       "      <td>202.6</td>\n",
       "      <td>6.7</td>\n",
       "      <td>6.9</td>\n",
       "      <td>41.5</td>\n",
       "    </tr>\n",
       "    <tr>\n",
       "      <th>365</th>\n",
       "      <td>287.9</td>\n",
       "      <td>138.7</td>\n",
       "      <td>220.5</td>\n",
       "      <td>4.3</td>\n",
       "      <td>6.5</td>\n",
       "      <td>41.7</td>\n",
       "    </tr>\n",
       "    <tr>\n",
       "      <th>366</th>\n",
       "      <td>286.0</td>\n",
       "      <td>140.0</td>\n",
       "      <td>215.8</td>\n",
       "      <td>4.1</td>\n",
       "      <td>6.4</td>\n",
       "      <td>42.1</td>\n",
       "    </tr>\n",
       "  </tbody>\n",
       "</table>\n",
       "<p>367 rows × 6 columns</p>\n",
       "</div>"
      ],
      "text/plain": [
       "     STP_Inlet-COD_U  STP_Inlet-BOD_U  STP_Inlet-TSS_U  \\\n",
       "0              170.4             64.4            108.6   \n",
       "1              170.2             64.3            108.7   \n",
       "2              175.6             65.0            113.4   \n",
       "3              173.2             63.3            112.2   \n",
       "4              170.6             61.6            111.5   \n",
       "..               ...              ...              ...   \n",
       "362            259.8            143.2            160.8   \n",
       "363            266.3            143.3            170.9   \n",
       "364            280.7            142.0            202.6   \n",
       "365            287.9            138.7            220.5   \n",
       "366            286.0            140.0            215.8   \n",
       "\n",
       "     STP_Inlet-Total_nitrogen_U  STP_Inlet-Total Phosphorus_U  \\\n",
       "0                          67.0                           6.3   \n",
       "1                          76.8                           6.1   \n",
       "2                          64.6                           5.7   \n",
       "3                          83.1                           6.1   \n",
       "4                          52.3                           5.0   \n",
       "..                          ...                           ...   \n",
       "362                         2.9                           6.8   \n",
       "363                         6.7                           6.8   \n",
       "364                         6.7                           6.9   \n",
       "365                         4.3                           6.5   \n",
       "366                         4.1                           6.4   \n",
       "\n",
       "     STP_Outlet-COD_U  \n",
       "0                56.7  \n",
       "1                57.1  \n",
       "2                57.7  \n",
       "3                58.4  \n",
       "4                58.6  \n",
       "..                ...  \n",
       "362              41.1  \n",
       "363              41.4  \n",
       "364              41.5  \n",
       "365              41.7  \n",
       "366              42.1  \n",
       "\n",
       "[367 rows x 6 columns]"
      ]
     },
     "execution_count": 63,
     "metadata": {},
     "output_type": "execute_result"
    }
   ],
   "source": [
    "df= pd.read_excel(\"1.5 MLD (Outlet COD).xlsx\")\n",
    "df"
   ]
  },
  {
   "cell_type": "markdown",
   "id": "d731ea3d",
   "metadata": {},
   "source": [
    "# Data preparation"
   ]
  },
  {
   "cell_type": "markdown",
   "id": "416177f7",
   "metadata": {},
   "source": [
    "## Separation of data in X and Y"
   ]
  },
  {
   "cell_type": "code",
   "execution_count": 64,
   "id": "7023e868",
   "metadata": {},
   "outputs": [
    {
     "data": {
      "text/plain": [
       "0      56.7\n",
       "1      57.1\n",
       "2      57.7\n",
       "3      58.4\n",
       "4      58.6\n",
       "       ... \n",
       "362    41.1\n",
       "363    41.4\n",
       "364    41.5\n",
       "365    41.7\n",
       "366    42.1\n",
       "Name: STP_Outlet-COD_U, Length: 367, dtype: float64"
      ]
     },
     "execution_count": 64,
     "metadata": {},
     "output_type": "execute_result"
    }
   ],
   "source": [
    "y= df['STP_Outlet-COD_U']\n",
    "y"
   ]
  },
  {
   "cell_type": "code",
   "execution_count": 65,
   "id": "a2572b7b",
   "metadata": {},
   "outputs": [
    {
     "data": {
      "text/html": [
       "<div>\n",
       "<style scoped>\n",
       "    .dataframe tbody tr th:only-of-type {\n",
       "        vertical-align: middle;\n",
       "    }\n",
       "\n",
       "    .dataframe tbody tr th {\n",
       "        vertical-align: top;\n",
       "    }\n",
       "\n",
       "    .dataframe thead th {\n",
       "        text-align: right;\n",
       "    }\n",
       "</style>\n",
       "<table border=\"1\" class=\"dataframe\">\n",
       "  <thead>\n",
       "    <tr style=\"text-align: right;\">\n",
       "      <th></th>\n",
       "      <th>STP_Inlet-COD_U</th>\n",
       "      <th>STP_Inlet-BOD_U</th>\n",
       "      <th>STP_Inlet-TSS_U</th>\n",
       "      <th>STP_Inlet-Total_nitrogen_U</th>\n",
       "      <th>STP_Inlet-Total Phosphorus_U</th>\n",
       "    </tr>\n",
       "  </thead>\n",
       "  <tbody>\n",
       "    <tr>\n",
       "      <th>0</th>\n",
       "      <td>170.4</td>\n",
       "      <td>64.4</td>\n",
       "      <td>108.6</td>\n",
       "      <td>67.0</td>\n",
       "      <td>6.3</td>\n",
       "    </tr>\n",
       "    <tr>\n",
       "      <th>1</th>\n",
       "      <td>170.2</td>\n",
       "      <td>64.3</td>\n",
       "      <td>108.7</td>\n",
       "      <td>76.8</td>\n",
       "      <td>6.1</td>\n",
       "    </tr>\n",
       "    <tr>\n",
       "      <th>2</th>\n",
       "      <td>175.6</td>\n",
       "      <td>65.0</td>\n",
       "      <td>113.4</td>\n",
       "      <td>64.6</td>\n",
       "      <td>5.7</td>\n",
       "    </tr>\n",
       "    <tr>\n",
       "      <th>3</th>\n",
       "      <td>173.2</td>\n",
       "      <td>63.3</td>\n",
       "      <td>112.2</td>\n",
       "      <td>83.1</td>\n",
       "      <td>6.1</td>\n",
       "    </tr>\n",
       "    <tr>\n",
       "      <th>4</th>\n",
       "      <td>170.6</td>\n",
       "      <td>61.6</td>\n",
       "      <td>111.5</td>\n",
       "      <td>52.3</td>\n",
       "      <td>5.0</td>\n",
       "    </tr>\n",
       "    <tr>\n",
       "      <th>...</th>\n",
       "      <td>...</td>\n",
       "      <td>...</td>\n",
       "      <td>...</td>\n",
       "      <td>...</td>\n",
       "      <td>...</td>\n",
       "    </tr>\n",
       "    <tr>\n",
       "      <th>362</th>\n",
       "      <td>259.8</td>\n",
       "      <td>143.2</td>\n",
       "      <td>160.8</td>\n",
       "      <td>2.9</td>\n",
       "      <td>6.8</td>\n",
       "    </tr>\n",
       "    <tr>\n",
       "      <th>363</th>\n",
       "      <td>266.3</td>\n",
       "      <td>143.3</td>\n",
       "      <td>170.9</td>\n",
       "      <td>6.7</td>\n",
       "      <td>6.8</td>\n",
       "    </tr>\n",
       "    <tr>\n",
       "      <th>364</th>\n",
       "      <td>280.7</td>\n",
       "      <td>142.0</td>\n",
       "      <td>202.6</td>\n",
       "      <td>6.7</td>\n",
       "      <td>6.9</td>\n",
       "    </tr>\n",
       "    <tr>\n",
       "      <th>365</th>\n",
       "      <td>287.9</td>\n",
       "      <td>138.7</td>\n",
       "      <td>220.5</td>\n",
       "      <td>4.3</td>\n",
       "      <td>6.5</td>\n",
       "    </tr>\n",
       "    <tr>\n",
       "      <th>366</th>\n",
       "      <td>286.0</td>\n",
       "      <td>140.0</td>\n",
       "      <td>215.8</td>\n",
       "      <td>4.1</td>\n",
       "      <td>6.4</td>\n",
       "    </tr>\n",
       "  </tbody>\n",
       "</table>\n",
       "<p>367 rows × 5 columns</p>\n",
       "</div>"
      ],
      "text/plain": [
       "     STP_Inlet-COD_U  STP_Inlet-BOD_U  STP_Inlet-TSS_U  \\\n",
       "0              170.4             64.4            108.6   \n",
       "1              170.2             64.3            108.7   \n",
       "2              175.6             65.0            113.4   \n",
       "3              173.2             63.3            112.2   \n",
       "4              170.6             61.6            111.5   \n",
       "..               ...              ...              ...   \n",
       "362            259.8            143.2            160.8   \n",
       "363            266.3            143.3            170.9   \n",
       "364            280.7            142.0            202.6   \n",
       "365            287.9            138.7            220.5   \n",
       "366            286.0            140.0            215.8   \n",
       "\n",
       "     STP_Inlet-Total_nitrogen_U  STP_Inlet-Total Phosphorus_U  \n",
       "0                          67.0                           6.3  \n",
       "1                          76.8                           6.1  \n",
       "2                          64.6                           5.7  \n",
       "3                          83.1                           6.1  \n",
       "4                          52.3                           5.0  \n",
       "..                          ...                           ...  \n",
       "362                         2.9                           6.8  \n",
       "363                         6.7                           6.8  \n",
       "364                         6.7                           6.9  \n",
       "365                         4.3                           6.5  \n",
       "366                         4.1                           6.4  \n",
       "\n",
       "[367 rows x 5 columns]"
      ]
     },
     "execution_count": 65,
     "metadata": {},
     "output_type": "execute_result"
    }
   ],
   "source": [
    "x= df.drop('STP_Outlet-COD_U', axis=1)\n",
    "x"
   ]
  },
  {
   "cell_type": "markdown",
   "id": "82100f37",
   "metadata": {},
   "source": [
    "## Data splitting"
   ]
  },
  {
   "cell_type": "code",
   "execution_count": 221,
   "id": "bccb7d49",
   "metadata": {},
   "outputs": [],
   "source": [
    "import numpy as np\n",
    "from sklearn.model_selection import train_test_split\n",
    "\n",
    "x_train, x_test, y_train, y_test = train_test_split(x, y, test_size=0.2, random_state=75)"
   ]
  },
  {
   "cell_type": "markdown",
   "id": "7e7fb7ea",
   "metadata": {},
   "source": [
    "### Training Data"
   ]
  },
  {
   "cell_type": "code",
   "execution_count": 222,
   "id": "ad35ae38",
   "metadata": {},
   "outputs": [
    {
     "data": {
      "text/html": [
       "<div>\n",
       "<style scoped>\n",
       "    .dataframe tbody tr th:only-of-type {\n",
       "        vertical-align: middle;\n",
       "    }\n",
       "\n",
       "    .dataframe tbody tr th {\n",
       "        vertical-align: top;\n",
       "    }\n",
       "\n",
       "    .dataframe thead th {\n",
       "        text-align: right;\n",
       "    }\n",
       "</style>\n",
       "<table border=\"1\" class=\"dataframe\">\n",
       "  <thead>\n",
       "    <tr style=\"text-align: right;\">\n",
       "      <th></th>\n",
       "      <th>STP_Inlet-COD_U</th>\n",
       "      <th>STP_Inlet-BOD_U</th>\n",
       "      <th>STP_Inlet-TSS_U</th>\n",
       "      <th>STP_Inlet-Total_nitrogen_U</th>\n",
       "      <th>STP_Inlet-Total Phosphorus_U</th>\n",
       "    </tr>\n",
       "  </thead>\n",
       "  <tbody>\n",
       "    <tr>\n",
       "      <th>68</th>\n",
       "      <td>173.9</td>\n",
       "      <td>62.4</td>\n",
       "      <td>129.8</td>\n",
       "      <td>62.4</td>\n",
       "      <td>6.3</td>\n",
       "    </tr>\n",
       "    <tr>\n",
       "      <th>193</th>\n",
       "      <td>193.9</td>\n",
       "      <td>89.1</td>\n",
       "      <td>134.8</td>\n",
       "      <td>9.2</td>\n",
       "      <td>5.7</td>\n",
       "    </tr>\n",
       "    <tr>\n",
       "      <th>7</th>\n",
       "      <td>166.5</td>\n",
       "      <td>60.8</td>\n",
       "      <td>107.3</td>\n",
       "      <td>32.2</td>\n",
       "      <td>6.3</td>\n",
       "    </tr>\n",
       "    <tr>\n",
       "      <th>234</th>\n",
       "      <td>198.1</td>\n",
       "      <td>84.1</td>\n",
       "      <td>142.5</td>\n",
       "      <td>18.8</td>\n",
       "      <td>7.2</td>\n",
       "    </tr>\n",
       "    <tr>\n",
       "      <th>203</th>\n",
       "      <td>196.4</td>\n",
       "      <td>94.4</td>\n",
       "      <td>134.4</td>\n",
       "      <td>4.3</td>\n",
       "      <td>4.4</td>\n",
       "    </tr>\n",
       "    <tr>\n",
       "      <th>...</th>\n",
       "      <td>...</td>\n",
       "      <td>...</td>\n",
       "      <td>...</td>\n",
       "      <td>...</td>\n",
       "      <td>...</td>\n",
       "    </tr>\n",
       "    <tr>\n",
       "      <th>34</th>\n",
       "      <td>176.0</td>\n",
       "      <td>75.6</td>\n",
       "      <td>108.8</td>\n",
       "      <td>33.3</td>\n",
       "      <td>6.5</td>\n",
       "    </tr>\n",
       "    <tr>\n",
       "      <th>26</th>\n",
       "      <td>180.6</td>\n",
       "      <td>76.0</td>\n",
       "      <td>112.6</td>\n",
       "      <td>43.9</td>\n",
       "      <td>6.7</td>\n",
       "    </tr>\n",
       "    <tr>\n",
       "      <th>136</th>\n",
       "      <td>186.1</td>\n",
       "      <td>83.4</td>\n",
       "      <td>130.0</td>\n",
       "      <td>20.7</td>\n",
       "      <td>6.7</td>\n",
       "    </tr>\n",
       "    <tr>\n",
       "      <th>19</th>\n",
       "      <td>173.2</td>\n",
       "      <td>69.8</td>\n",
       "      <td>109.0</td>\n",
       "      <td>36.4</td>\n",
       "      <td>5.0</td>\n",
       "    </tr>\n",
       "    <tr>\n",
       "      <th>248</th>\n",
       "      <td>207.2</td>\n",
       "      <td>111.4</td>\n",
       "      <td>137.7</td>\n",
       "      <td>10.8</td>\n",
       "      <td>5.8</td>\n",
       "    </tr>\n",
       "  </tbody>\n",
       "</table>\n",
       "<p>293 rows × 5 columns</p>\n",
       "</div>"
      ],
      "text/plain": [
       "     STP_Inlet-COD_U  STP_Inlet-BOD_U  STP_Inlet-TSS_U  \\\n",
       "68             173.9             62.4            129.8   \n",
       "193            193.9             89.1            134.8   \n",
       "7              166.5             60.8            107.3   \n",
       "234            198.1             84.1            142.5   \n",
       "203            196.4             94.4            134.4   \n",
       "..               ...              ...              ...   \n",
       "34             176.0             75.6            108.8   \n",
       "26             180.6             76.0            112.6   \n",
       "136            186.1             83.4            130.0   \n",
       "19             173.2             69.8            109.0   \n",
       "248            207.2            111.4            137.7   \n",
       "\n",
       "     STP_Inlet-Total_nitrogen_U  STP_Inlet-Total Phosphorus_U  \n",
       "68                         62.4                           6.3  \n",
       "193                         9.2                           5.7  \n",
       "7                          32.2                           6.3  \n",
       "234                        18.8                           7.2  \n",
       "203                         4.3                           4.4  \n",
       "..                          ...                           ...  \n",
       "34                         33.3                           6.5  \n",
       "26                         43.9                           6.7  \n",
       "136                        20.7                           6.7  \n",
       "19                         36.4                           5.0  \n",
       "248                        10.8                           5.8  \n",
       "\n",
       "[293 rows x 5 columns]"
      ]
     },
     "execution_count": 222,
     "metadata": {},
     "output_type": "execute_result"
    }
   ],
   "source": [
    "x_train"
   ]
  },
  {
   "cell_type": "markdown",
   "id": "8f135c86",
   "metadata": {},
   "source": [
    "### Testing Data"
   ]
  },
  {
   "cell_type": "code",
   "execution_count": 223,
   "id": "d96c740d",
   "metadata": {},
   "outputs": [
    {
     "data": {
      "text/html": [
       "<div>\n",
       "<style scoped>\n",
       "    .dataframe tbody tr th:only-of-type {\n",
       "        vertical-align: middle;\n",
       "    }\n",
       "\n",
       "    .dataframe tbody tr th {\n",
       "        vertical-align: top;\n",
       "    }\n",
       "\n",
       "    .dataframe thead th {\n",
       "        text-align: right;\n",
       "    }\n",
       "</style>\n",
       "<table border=\"1\" class=\"dataframe\">\n",
       "  <thead>\n",
       "    <tr style=\"text-align: right;\">\n",
       "      <th></th>\n",
       "      <th>STP_Inlet-COD_U</th>\n",
       "      <th>STP_Inlet-BOD_U</th>\n",
       "      <th>STP_Inlet-TSS_U</th>\n",
       "      <th>STP_Inlet-Total_nitrogen_U</th>\n",
       "      <th>STP_Inlet-Total Phosphorus_U</th>\n",
       "    </tr>\n",
       "  </thead>\n",
       "  <tbody>\n",
       "    <tr>\n",
       "      <th>245</th>\n",
       "      <td>199.6</td>\n",
       "      <td>97.9</td>\n",
       "      <td>136.4</td>\n",
       "      <td>11.1</td>\n",
       "      <td>5.1</td>\n",
       "    </tr>\n",
       "    <tr>\n",
       "      <th>42</th>\n",
       "      <td>174.9</td>\n",
       "      <td>75.6</td>\n",
       "      <td>108.3</td>\n",
       "      <td>27.5</td>\n",
       "      <td>6.4</td>\n",
       "    </tr>\n",
       "    <tr>\n",
       "      <th>247</th>\n",
       "      <td>200.1</td>\n",
       "      <td>101.8</td>\n",
       "      <td>135.1</td>\n",
       "      <td>7.8</td>\n",
       "      <td>3.7</td>\n",
       "    </tr>\n",
       "    <tr>\n",
       "      <th>345</th>\n",
       "      <td>245.5</td>\n",
       "      <td>134.9</td>\n",
       "      <td>154.9</td>\n",
       "      <td>2.4</td>\n",
       "      <td>5.6</td>\n",
       "    </tr>\n",
       "    <tr>\n",
       "      <th>177</th>\n",
       "      <td>212.1</td>\n",
       "      <td>120.8</td>\n",
       "      <td>145.6</td>\n",
       "      <td>2.9</td>\n",
       "      <td>4.9</td>\n",
       "    </tr>\n",
       "    <tr>\n",
       "      <th>...</th>\n",
       "      <td>...</td>\n",
       "      <td>...</td>\n",
       "      <td>...</td>\n",
       "      <td>...</td>\n",
       "      <td>...</td>\n",
       "    </tr>\n",
       "    <tr>\n",
       "      <th>261</th>\n",
       "      <td>198.3</td>\n",
       "      <td>94.4</td>\n",
       "      <td>136.8</td>\n",
       "      <td>0.7</td>\n",
       "      <td>6.0</td>\n",
       "    </tr>\n",
       "    <tr>\n",
       "      <th>169</th>\n",
       "      <td>202.9</td>\n",
       "      <td>109.4</td>\n",
       "      <td>138.1</td>\n",
       "      <td>4.4</td>\n",
       "      <td>6.3</td>\n",
       "    </tr>\n",
       "    <tr>\n",
       "      <th>36</th>\n",
       "      <td>176.1</td>\n",
       "      <td>76.2</td>\n",
       "      <td>110.9</td>\n",
       "      <td>20.8</td>\n",
       "      <td>6.2</td>\n",
       "    </tr>\n",
       "    <tr>\n",
       "      <th>121</th>\n",
       "      <td>181.4</td>\n",
       "      <td>73.5</td>\n",
       "      <td>132.6</td>\n",
       "      <td>30.1</td>\n",
       "      <td>6.9</td>\n",
       "    </tr>\n",
       "    <tr>\n",
       "      <th>293</th>\n",
       "      <td>220.1</td>\n",
       "      <td>119.4</td>\n",
       "      <td>140.0</td>\n",
       "      <td>1.5</td>\n",
       "      <td>6.7</td>\n",
       "    </tr>\n",
       "  </tbody>\n",
       "</table>\n",
       "<p>74 rows × 5 columns</p>\n",
       "</div>"
      ],
      "text/plain": [
       "     STP_Inlet-COD_U  STP_Inlet-BOD_U  STP_Inlet-TSS_U  \\\n",
       "245            199.6             97.9            136.4   \n",
       "42             174.9             75.6            108.3   \n",
       "247            200.1            101.8            135.1   \n",
       "345            245.5            134.9            154.9   \n",
       "177            212.1            120.8            145.6   \n",
       "..               ...              ...              ...   \n",
       "261            198.3             94.4            136.8   \n",
       "169            202.9            109.4            138.1   \n",
       "36             176.1             76.2            110.9   \n",
       "121            181.4             73.5            132.6   \n",
       "293            220.1            119.4            140.0   \n",
       "\n",
       "     STP_Inlet-Total_nitrogen_U  STP_Inlet-Total Phosphorus_U  \n",
       "245                        11.1                           5.1  \n",
       "42                         27.5                           6.4  \n",
       "247                         7.8                           3.7  \n",
       "345                         2.4                           5.6  \n",
       "177                         2.9                           4.9  \n",
       "..                          ...                           ...  \n",
       "261                         0.7                           6.0  \n",
       "169                         4.4                           6.3  \n",
       "36                         20.8                           6.2  \n",
       "121                        30.1                           6.9  \n",
       "293                         1.5                           6.7  \n",
       "\n",
       "[74 rows x 5 columns]"
      ]
     },
     "execution_count": 223,
     "metadata": {},
     "output_type": "execute_result"
    }
   ],
   "source": [
    "x_test"
   ]
  },
  {
   "cell_type": "code",
   "execution_count": 224,
   "id": "c07d0c7d",
   "metadata": {},
   "outputs": [
    {
     "data": {
      "text/plain": [
       "68     41.8\n",
       "193    43.3\n",
       "7      59.7\n",
       "234    45.2\n",
       "203    43.4\n",
       "       ... \n",
       "34     41.4\n",
       "26     41.3\n",
       "136    42.4\n",
       "19     41.3\n",
       "248    45.6\n",
       "Name: STP_Outlet-COD_U, Length: 293, dtype: float64"
      ]
     },
     "execution_count": 224,
     "metadata": {},
     "output_type": "execute_result"
    }
   ],
   "source": [
    "y_train"
   ]
  },
  {
   "cell_type": "markdown",
   "id": "c4cf0628",
   "metadata": {},
   "source": [
    "## Model Building"
   ]
  },
  {
   "cell_type": "markdown",
   "id": "84a49c98",
   "metadata": {},
   "source": [
    "### Random Forest"
   ]
  },
  {
   "cell_type": "markdown",
   "id": "7fedc7c3",
   "metadata": {},
   "source": [
    "### Training"
   ]
  },
  {
   "cell_type": "code",
   "execution_count": 235,
   "id": "bf49e001-fbbf-442b-93f2-f5be3219cd9a",
   "metadata": {},
   "outputs": [
    {
     "data": {
      "text/html": [
       "<style>#sk-container-id-36 {color: black;}#sk-container-id-36 pre{padding: 0;}#sk-container-id-36 div.sk-toggleable {background-color: white;}#sk-container-id-36 label.sk-toggleable__label {cursor: pointer;display: block;width: 100%;margin-bottom: 0;padding: 0.3em;box-sizing: border-box;text-align: center;}#sk-container-id-36 label.sk-toggleable__label-arrow:before {content: \"▸\";float: left;margin-right: 0.25em;color: #696969;}#sk-container-id-36 label.sk-toggleable__label-arrow:hover:before {color: black;}#sk-container-id-36 div.sk-estimator:hover label.sk-toggleable__label-arrow:before {color: black;}#sk-container-id-36 div.sk-toggleable__content {max-height: 0;max-width: 0;overflow: hidden;text-align: left;background-color: #f0f8ff;}#sk-container-id-36 div.sk-toggleable__content pre {margin: 0.2em;color: black;border-radius: 0.25em;background-color: #f0f8ff;}#sk-container-id-36 input.sk-toggleable__control:checked~div.sk-toggleable__content {max-height: 200px;max-width: 100%;overflow: auto;}#sk-container-id-36 input.sk-toggleable__control:checked~label.sk-toggleable__label-arrow:before {content: \"▾\";}#sk-container-id-36 div.sk-estimator input.sk-toggleable__control:checked~label.sk-toggleable__label {background-color: #d4ebff;}#sk-container-id-36 div.sk-label input.sk-toggleable__control:checked~label.sk-toggleable__label {background-color: #d4ebff;}#sk-container-id-36 input.sk-hidden--visually {border: 0;clip: rect(1px 1px 1px 1px);clip: rect(1px, 1px, 1px, 1px);height: 1px;margin: -1px;overflow: hidden;padding: 0;position: absolute;width: 1px;}#sk-container-id-36 div.sk-estimator {font-family: monospace;background-color: #f0f8ff;border: 1px dotted black;border-radius: 0.25em;box-sizing: border-box;margin-bottom: 0.5em;}#sk-container-id-36 div.sk-estimator:hover {background-color: #d4ebff;}#sk-container-id-36 div.sk-parallel-item::after {content: \"\";width: 100%;border-bottom: 1px solid gray;flex-grow: 1;}#sk-container-id-36 div.sk-label:hover label.sk-toggleable__label {background-color: #d4ebff;}#sk-container-id-36 div.sk-serial::before {content: \"\";position: absolute;border-left: 1px solid gray;box-sizing: border-box;top: 0;bottom: 0;left: 50%;z-index: 0;}#sk-container-id-36 div.sk-serial {display: flex;flex-direction: column;align-items: center;background-color: white;padding-right: 0.2em;padding-left: 0.2em;position: relative;}#sk-container-id-36 div.sk-item {position: relative;z-index: 1;}#sk-container-id-36 div.sk-parallel {display: flex;align-items: stretch;justify-content: center;background-color: white;position: relative;}#sk-container-id-36 div.sk-item::before, #sk-container-id-36 div.sk-parallel-item::before {content: \"\";position: absolute;border-left: 1px solid gray;box-sizing: border-box;top: 0;bottom: 0;left: 50%;z-index: -1;}#sk-container-id-36 div.sk-parallel-item {display: flex;flex-direction: column;z-index: 1;position: relative;background-color: white;}#sk-container-id-36 div.sk-parallel-item:first-child::after {align-self: flex-end;width: 50%;}#sk-container-id-36 div.sk-parallel-item:last-child::after {align-self: flex-start;width: 50%;}#sk-container-id-36 div.sk-parallel-item:only-child::after {width: 0;}#sk-container-id-36 div.sk-dashed-wrapped {border: 1px dashed gray;margin: 0 0.4em 0.5em 0.4em;box-sizing: border-box;padding-bottom: 0.4em;background-color: white;}#sk-container-id-36 div.sk-label label {font-family: monospace;font-weight: bold;display: inline-block;line-height: 1.2em;}#sk-container-id-36 div.sk-label-container {text-align: center;}#sk-container-id-36 div.sk-container {/* jupyter's `normalize.less` sets `[hidden] { display: none; }` but bootstrap.min.css set `[hidden] { display: none !important; }` so we also need the `!important` here to be able to override the default hidden behavior on the sphinx rendered scikit-learn.org. See: https://github.com/scikit-learn/scikit-learn/issues/21755 */display: inline-block !important;position: relative;}#sk-container-id-36 div.sk-text-repr-fallback {display: none;}</style><div id=\"sk-container-id-36\" class=\"sk-top-container\"><div class=\"sk-text-repr-fallback\"><pre>RandomForestRegressor(max_depth=20, random_state=100)</pre><b>In a Jupyter environment, please rerun this cell to show the HTML representation or trust the notebook. <br />On GitHub, the HTML representation is unable to render, please try loading this page with nbviewer.org.</b></div><div class=\"sk-container\" hidden><div class=\"sk-item\"><div class=\"sk-estimator sk-toggleable\"><input class=\"sk-toggleable__control sk-hidden--visually\" id=\"sk-estimator-id-36\" type=\"checkbox\" checked><label for=\"sk-estimator-id-36\" class=\"sk-toggleable__label sk-toggleable__label-arrow\">RandomForestRegressor</label><div class=\"sk-toggleable__content\"><pre>RandomForestRegressor(max_depth=20, random_state=100)</pre></div></div></div></div></div>"
      ],
      "text/plain": [
       "RandomForestRegressor(max_depth=20, random_state=100)"
      ]
     },
     "execution_count": 235,
     "metadata": {},
     "output_type": "execute_result"
    }
   ],
   "source": [
    "rf= RandomForestRegressor( max_depth= 20, random_state=100)\n",
    "rf.fit(x_train, y_train)"
   ]
  },
  {
   "cell_type": "markdown",
   "id": "b22eedf0",
   "metadata": {},
   "source": [
    "### Prediction by model"
   ]
  },
  {
   "cell_type": "code",
   "execution_count": 236,
   "id": "df18a3fa",
   "metadata": {},
   "outputs": [],
   "source": [
    "y_rf_train_pred= rf.predict(x_train)\n",
    "y_rf_test_pred= rf.predict(x_test)"
   ]
  },
  {
   "cell_type": "markdown",
   "id": "1993d2ef",
   "metadata": {},
   "source": [
    "### Evaluation of Model"
   ]
  },
  {
   "cell_type": "code",
   "execution_count": 237,
   "id": "b47d54d7",
   "metadata": {},
   "outputs": [],
   "source": [
    "from sklearn.metrics import mean_squared_error, r2_score\n",
    "\n",
    "rf_train_mse= mean_squared_error(y_train, y_rf_train_pred)\n",
    "rf_train_r2= r2_score(y_train, y_rf_train_pred)\n",
    "\n",
    "rf_test_mse= mean_squared_error(y_test, y_rf_test_pred)\n",
    "rf_test_r2= r2_score(y_test, y_rf_test_pred)"
   ]
  },
  {
   "cell_type": "code",
   "execution_count": 238,
   "id": "d4331464",
   "metadata": {},
   "outputs": [
    {
     "data": {
      "text/plain": [
       "0.5590114234721573"
      ]
     },
     "execution_count": 238,
     "metadata": {},
     "output_type": "execute_result"
    }
   ],
   "source": [
    "rf_test_r2"
   ]
  },
  {
   "cell_type": "code",
   "execution_count": 234,
   "id": "0f378fc6",
   "metadata": {},
   "outputs": [
    {
     "data": {
      "text/html": [
       "<div>\n",
       "<style scoped>\n",
       "    .dataframe tbody tr th:only-of-type {\n",
       "        vertical-align: middle;\n",
       "    }\n",
       "\n",
       "    .dataframe tbody tr th {\n",
       "        vertical-align: top;\n",
       "    }\n",
       "\n",
       "    .dataframe thead th {\n",
       "        text-align: right;\n",
       "    }\n",
       "</style>\n",
       "<table border=\"1\" class=\"dataframe\">\n",
       "  <thead>\n",
       "    <tr style=\"text-align: right;\">\n",
       "      <th></th>\n",
       "      <th>0</th>\n",
       "      <th>1</th>\n",
       "      <th>2</th>\n",
       "      <th>3</th>\n",
       "      <th>4</th>\n",
       "    </tr>\n",
       "  </thead>\n",
       "  <tbody>\n",
       "    <tr>\n",
       "      <th>0</th>\n",
       "      <td>Random Forest</td>\n",
       "      <td>2.134102</td>\n",
       "      <td>0.883576</td>\n",
       "      <td>8.076883</td>\n",
       "      <td>0.485597</td>\n",
       "    </tr>\n",
       "  </tbody>\n",
       "</table>\n",
       "</div>"
      ],
      "text/plain": [
       "               0         1         2         3         4\n",
       "0  Random Forest  2.134102  0.883576  8.076883  0.485597"
      ]
     },
     "execution_count": 234,
     "metadata": {},
     "output_type": "execute_result"
    }
   ],
   "source": [
    "import pandas as pd\n",
    "rf_results= pd.DataFrame(['Random Forest', rf_train_mse, rf_train_r2, rf_test_mse, rf_test_r2]).transpose()\n",
    "rf_results"
   ]
  },
  {
   "cell_type": "code",
   "execution_count": 238,
   "id": "c5cece55-28aa-4148-8578-8a920552cbbb",
   "metadata": {},
   "outputs": [
    {
     "data": {
      "text/plain": [
       "0.5590114234721573"
      ]
     },
     "execution_count": 238,
     "metadata": {},
     "output_type": "execute_result"
    }
   ],
   "source": [
    "rf_test_r2"
   ]
  },
  {
   "cell_type": "code",
   "execution_count": 183,
   "id": "855bdf6c-8773-4636-aca6-5c93c4a511c5",
   "metadata": {},
   "outputs": [
    {
     "data": {
      "text/html": [
       "<div>\n",
       "<style scoped>\n",
       "    .dataframe tbody tr th:only-of-type {\n",
       "        vertical-align: middle;\n",
       "    }\n",
       "\n",
       "    .dataframe tbody tr th {\n",
       "        vertical-align: top;\n",
       "    }\n",
       "\n",
       "    .dataframe thead th {\n",
       "        text-align: right;\n",
       "    }\n",
       "</style>\n",
       "<table border=\"1\" class=\"dataframe\">\n",
       "  <thead>\n",
       "    <tr style=\"text-align: right;\">\n",
       "      <th></th>\n",
       "      <th>0</th>\n",
       "      <th>1</th>\n",
       "      <th>2</th>\n",
       "      <th>3</th>\n",
       "      <th>4</th>\n",
       "    </tr>\n",
       "  </thead>\n",
       "  <tbody>\n",
       "    <tr>\n",
       "      <th>0</th>\n",
       "      <td>Random Forest</td>\n",
       "      <td>2.124438</td>\n",
       "      <td>0.884103</td>\n",
       "      <td>6.924168</td>\n",
       "      <td>0.559011</td>\n",
       "    </tr>\n",
       "  </tbody>\n",
       "</table>\n",
       "</div>"
      ],
      "text/plain": [
       "               0         1         2         3         4\n",
       "0  Random Forest  2.124438  0.884103  6.924168  0.559011"
      ]
     },
     "execution_count": 183,
     "metadata": {},
     "output_type": "execute_result"
    }
   ],
   "source": [
    "import pandas as pd\n",
    "rf_results= pd.DataFrame(['Random Forest', rf_train_mse, rf_train_r2, rf_test_mse, rf_test_r2]).transpose()\n",
    "rf_results"
   ]
  },
  {
   "cell_type": "code",
   "execution_count": 143,
   "id": "3a5c6183",
   "metadata": {},
   "outputs": [
    {
     "data": {
      "text/html": [
       "<div>\n",
       "<style scoped>\n",
       "    .dataframe tbody tr th:only-of-type {\n",
       "        vertical-align: middle;\n",
       "    }\n",
       "\n",
       "    .dataframe tbody tr th {\n",
       "        vertical-align: top;\n",
       "    }\n",
       "\n",
       "    .dataframe thead th {\n",
       "        text-align: right;\n",
       "    }\n",
       "</style>\n",
       "<table border=\"1\" class=\"dataframe\">\n",
       "  <thead>\n",
       "    <tr style=\"text-align: right;\">\n",
       "      <th></th>\n",
       "      <th>Methods</th>\n",
       "      <th>Train MSE</th>\n",
       "      <th>Train R2</th>\n",
       "      <th>Test MSE</th>\n",
       "      <th>Test R2</th>\n",
       "    </tr>\n",
       "  </thead>\n",
       "  <tbody>\n",
       "    <tr>\n",
       "      <th>0</th>\n",
       "      <td>Random Forest</td>\n",
       "      <td>1.633575</td>\n",
       "      <td>0.897506</td>\n",
       "      <td>19.923085</td>\n",
       "      <td>0.20361</td>\n",
       "    </tr>\n",
       "  </tbody>\n",
       "</table>\n",
       "</div>"
      ],
      "text/plain": [
       "         Methods Train MSE  Train R2   Test MSE  Test R2\n",
       "0  Random Forest  1.633575  0.897506  19.923085  0.20361"
      ]
     },
     "execution_count": 143,
     "metadata": {},
     "output_type": "execute_result"
    }
   ],
   "source": [
    "rf_results.columns = ['Methods', 'Train MSE','Train R2', 'Test MSE', 'Test R2']\n",
    "rf_results"
   ]
  },
  {
   "cell_type": "markdown",
   "id": "468bdae4",
   "metadata": {},
   "source": [
    "#### The lower the MSE, the better the model predictive accuracy, and, the better the regression model is.The greater the value of R-Squared, the better is the regression model."
   ]
  },
  {
   "cell_type": "code",
   "execution_count": 117,
   "id": "8422853f",
   "metadata": {},
   "outputs": [],
   "source": [
    "import matplotlib.pyplot as plt\n",
    "import numpy as num"
   ]
  },
  {
   "cell_type": "code",
   "execution_count": 142,
   "id": "eb7cad78",
   "metadata": {},
   "outputs": [
    {
     "data": {
      "text/plain": [
       "Text(0, 0.5, 'Y_Train_Prediction')"
      ]
     },
     "execution_count": 142,
     "metadata": {},
     "output_type": "execute_result"
    },
    {
     "data": {
      "image/png": "[encoded data removed]",
      "text/plain": [
       "<Figure size 500x500 with 1 Axes>"
      ]
     },
     "metadata": {},
     "output_type": "display_data"
    }
   ],
   "source": [
    "plt.figure(figsize=(5,5))\n",
    "\n",
    "plt.scatter (y=y_rf_train_pred, x=y_train, label='Original')\n",
    "\n",
    "\n",
    "\n",
    "z= np.polyfit (y_train, y_rf_train_pred,1)\n",
    "p= np.poly1d(z)\n",
    "\n",
    "plt.plot(y_test, p(y_test), '#F8776D')\n",
    "plt.xlabel('Y Train')\n",
    "plt.ylabel('Y_Train_Prediction')"
   ]
  },
  {
   "cell_type": "code",
   "execution_count": 184,
   "id": "ef42054a",
   "metadata": {},
   "outputs": [
    {
     "data": {
      "text/plain": [
       "Text(0, 0.5, 'Y_Test_Prediction')"
      ]
     },
     "execution_count": 184,
     "metadata": {},
     "output_type": "execute_result"
    },
    {
     "data": {
      "image/png": "[encoded data removed]",
      "text/plain": [
       "<Figure size 500x500 with 1 Axes>"
      ]
     },
     "metadata": {},
     "output_type": "display_data"
    }
   ],
   "source": [
    "plt.figure(figsize=(5,5))\n",
    "\n",
    "plt.scatter (y=y_rf_test_pred, x=y_test, label='Original')\n",
    "\n",
    "\n",
    "\n",
    "z= np.polyfit (y_test, y_rf_test_pred,1)\n",
    "p= np.poly1d(z)\n",
    "\n",
    "plt.plot(y_test, p(y_test), '#F8776D')\n",
    "plt.xlabel('Y Test')\n",
    "plt.ylabel('Y_Test_Prediction')"
   ]
  },
  {
   "cell_type": "code",
   "execution_count": null,
   "id": "a06b5b1f-d146-40ae-918e-51fd9b893fb4",
   "metadata": {},
   "outputs": [],
   "source": []
  }
 ],
 "metadata": {
  "kernelspec": {
   "display_name": "Python 3 (ipykernel)",
   "language": "python",
   "name": "python3"
  },
  "language_info": {
   "codemirror_mode": {
    "name": "ipython",
    "version": 3
   },
   "file_extension": ".py",
   "mimetype": "text/x-python",
   "name": "python",
   "nbconvert_exporter": "python",
   "pygments_lexer": "ipython3",
   "version": "3.11.5"
  }
 },
 "nbformat": 4,
 "nbformat_minor": 5
}
