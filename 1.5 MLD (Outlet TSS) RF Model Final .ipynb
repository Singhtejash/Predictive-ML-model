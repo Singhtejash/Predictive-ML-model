{
 "cells": [
  {
   "cell_type": "code",
   "execution_count": 1,
   "id": "c60cf303",
   "metadata": {},
   "outputs": [],
   "source": [
    "import pandas as pd"
   ]
  },
  {
   "cell_type": "markdown",
   "id": "627950f9",
   "metadata": {},
   "source": [
    "# Data Upload"
   ]
  },
  {
   "cell_type": "code",
   "execution_count": 2,
   "id": "731f54b5",
   "metadata": {},
   "outputs": [
    {
     "data": {
      "text/html": [
       "<div>\n",
       "<style scoped>\n",
       "    .dataframe tbody tr th:only-of-type {\n",
       "        vertical-align: middle;\n",
       "    }\n",
       "\n",
       "    .dataframe tbody tr th {\n",
       "        vertical-align: top;\n",
       "    }\n",
       "\n",
       "    .dataframe thead th {\n",
       "        text-align: right;\n",
       "    }\n",
       "</style>\n",
       "<table border=\"1\" class=\"dataframe\">\n",
       "  <thead>\n",
       "    <tr style=\"text-align: right;\">\n",
       "      <th></th>\n",
       "      <th>STP_Inlet-COD_U</th>\n",
       "      <th>STP_Inlet-BOD_U</th>\n",
       "      <th>STP_Inlet-TSS_U</th>\n",
       "      <th>STP_Inlet-Total_nitrogen_U</th>\n",
       "      <th>STP_Inlet-Total Phosphorus_U</th>\n",
       "      <th>STP_Outlet-TSS_U</th>\n",
       "    </tr>\n",
       "  </thead>\n",
       "  <tbody>\n",
       "    <tr>\n",
       "      <th>0</th>\n",
       "      <td>170.4</td>\n",
       "      <td>64.4</td>\n",
       "      <td>108.6</td>\n",
       "      <td>67.0</td>\n",
       "      <td>6.3</td>\n",
       "      <td>13.8</td>\n",
       "    </tr>\n",
       "    <tr>\n",
       "      <th>1</th>\n",
       "      <td>170.2</td>\n",
       "      <td>64.3</td>\n",
       "      <td>108.7</td>\n",
       "      <td>76.8</td>\n",
       "      <td>6.1</td>\n",
       "      <td>13.8</td>\n",
       "    </tr>\n",
       "    <tr>\n",
       "      <th>2</th>\n",
       "      <td>175.6</td>\n",
       "      <td>65.0</td>\n",
       "      <td>113.4</td>\n",
       "      <td>64.6</td>\n",
       "      <td>5.7</td>\n",
       "      <td>13.7</td>\n",
       "    </tr>\n",
       "    <tr>\n",
       "      <th>3</th>\n",
       "      <td>173.2</td>\n",
       "      <td>63.3</td>\n",
       "      <td>112.2</td>\n",
       "      <td>83.1</td>\n",
       "      <td>6.1</td>\n",
       "      <td>13.7</td>\n",
       "    </tr>\n",
       "    <tr>\n",
       "      <th>4</th>\n",
       "      <td>170.6</td>\n",
       "      <td>61.6</td>\n",
       "      <td>111.5</td>\n",
       "      <td>52.3</td>\n",
       "      <td>5.0</td>\n",
       "      <td>13.5</td>\n",
       "    </tr>\n",
       "    <tr>\n",
       "      <th>...</th>\n",
       "      <td>...</td>\n",
       "      <td>...</td>\n",
       "      <td>...</td>\n",
       "      <td>...</td>\n",
       "      <td>...</td>\n",
       "      <td>...</td>\n",
       "    </tr>\n",
       "    <tr>\n",
       "      <th>373</th>\n",
       "      <td>259.8</td>\n",
       "      <td>143.2</td>\n",
       "      <td>160.8</td>\n",
       "      <td>2.9</td>\n",
       "      <td>6.8</td>\n",
       "      <td>4.7</td>\n",
       "    </tr>\n",
       "    <tr>\n",
       "      <th>374</th>\n",
       "      <td>266.3</td>\n",
       "      <td>143.3</td>\n",
       "      <td>170.9</td>\n",
       "      <td>6.7</td>\n",
       "      <td>6.8</td>\n",
       "      <td>4.7</td>\n",
       "    </tr>\n",
       "    <tr>\n",
       "      <th>375</th>\n",
       "      <td>280.7</td>\n",
       "      <td>142.0</td>\n",
       "      <td>202.6</td>\n",
       "      <td>6.7</td>\n",
       "      <td>6.9</td>\n",
       "      <td>4.7</td>\n",
       "    </tr>\n",
       "    <tr>\n",
       "      <th>376</th>\n",
       "      <td>287.9</td>\n",
       "      <td>138.7</td>\n",
       "      <td>220.5</td>\n",
       "      <td>4.3</td>\n",
       "      <td>6.5</td>\n",
       "      <td>4.7</td>\n",
       "    </tr>\n",
       "    <tr>\n",
       "      <th>377</th>\n",
       "      <td>286.0</td>\n",
       "      <td>140.0</td>\n",
       "      <td>215.8</td>\n",
       "      <td>4.1</td>\n",
       "      <td>6.4</td>\n",
       "      <td>4.7</td>\n",
       "    </tr>\n",
       "  </tbody>\n",
       "</table>\n",
       "<p>378 rows × 6 columns</p>\n",
       "</div>"
      ],
      "text/plain": [
       "     STP_Inlet-COD_U  STP_Inlet-BOD_U  STP_Inlet-TSS_U  \\\n",
       "0              170.4             64.4            108.6   \n",
       "1              170.2             64.3            108.7   \n",
       "2              175.6             65.0            113.4   \n",
       "3              173.2             63.3            112.2   \n",
       "4              170.6             61.6            111.5   \n",
       "..               ...              ...              ...   \n",
       "373            259.8            143.2            160.8   \n",
       "374            266.3            143.3            170.9   \n",
       "375            280.7            142.0            202.6   \n",
       "376            287.9            138.7            220.5   \n",
       "377            286.0            140.0            215.8   \n",
       "\n",
       "     STP_Inlet-Total_nitrogen_U  STP_Inlet-Total Phosphorus_U  \\\n",
       "0                          67.0                           6.3   \n",
       "1                          76.8                           6.1   \n",
       "2                          64.6                           5.7   \n",
       "3                          83.1                           6.1   \n",
       "4                          52.3                           5.0   \n",
       "..                          ...                           ...   \n",
       "373                         2.9                           6.8   \n",
       "374                         6.7                           6.8   \n",
       "375                         6.7                           6.9   \n",
       "376                         4.3                           6.5   \n",
       "377                         4.1                           6.4   \n",
       "\n",
       "     STP_Outlet-TSS_U  \n",
       "0                13.8  \n",
       "1                13.8  \n",
       "2                13.7  \n",
       "3                13.7  \n",
       "4                13.5  \n",
       "..                ...  \n",
       "373               4.7  \n",
       "374               4.7  \n",
       "375               4.7  \n",
       "376               4.7  \n",
       "377               4.7  \n",
       "\n",
       "[378 rows x 6 columns]"
      ]
     },
     "execution_count": 2,
     "metadata": {},
     "output_type": "execute_result"
    }
   ],
   "source": [
    "df= pd.read_excel(\"1.5 MLD (Outlet TSS).xlsx\")\n",
    "df"
   ]
  },
  {
   "cell_type": "markdown",
   "id": "d731ea3d",
   "metadata": {},
   "source": [
    "# Data preparation"
   ]
  },
  {
   "cell_type": "markdown",
   "id": "416177f7",
   "metadata": {},
   "source": [
    "## Separation of data in X and Y"
   ]
  },
  {
   "cell_type": "code",
   "execution_count": 3,
   "id": "7023e868",
   "metadata": {},
   "outputs": [
    {
     "data": {
      "text/plain": [
       "0      13.8\n",
       "1      13.8\n",
       "2      13.7\n",
       "3      13.7\n",
       "4      13.5\n",
       "       ... \n",
       "373     4.7\n",
       "374     4.7\n",
       "375     4.7\n",
       "376     4.7\n",
       "377     4.7\n",
       "Name: STP_Outlet-TSS_U, Length: 378, dtype: float64"
      ]
     },
     "execution_count": 3,
     "metadata": {},
     "output_type": "execute_result"
    }
   ],
   "source": [
    "y= df['STP_Outlet-TSS_U']\n",
    "y"
   ]
  },
  {
   "cell_type": "code",
   "execution_count": 4,
   "id": "a2572b7b",
   "metadata": {},
   "outputs": [
    {
     "data": {
      "text/html": [
       "<div>\n",
       "<style scoped>\n",
       "    .dataframe tbody tr th:only-of-type {\n",
       "        vertical-align: middle;\n",
       "    }\n",
       "\n",
       "    .dataframe tbody tr th {\n",
       "        vertical-align: top;\n",
       "    }\n",
       "\n",
       "    .dataframe thead th {\n",
       "        text-align: right;\n",
       "    }\n",
       "</style>\n",
       "<table border=\"1\" class=\"dataframe\">\n",
       "  <thead>\n",
       "    <tr style=\"text-align: right;\">\n",
       "      <th></th>\n",
       "      <th>STP_Inlet-COD_U</th>\n",
       "      <th>STP_Inlet-BOD_U</th>\n",
       "      <th>STP_Inlet-TSS_U</th>\n",
       "      <th>STP_Inlet-Total_nitrogen_U</th>\n",
       "      <th>STP_Inlet-Total Phosphorus_U</th>\n",
       "    </tr>\n",
       "  </thead>\n",
       "  <tbody>\n",
       "    <tr>\n",
       "      <th>0</th>\n",
       "      <td>170.4</td>\n",
       "      <td>64.4</td>\n",
       "      <td>108.6</td>\n",
       "      <td>67.0</td>\n",
       "      <td>6.3</td>\n",
       "    </tr>\n",
       "    <tr>\n",
       "      <th>1</th>\n",
       "      <td>170.2</td>\n",
       "      <td>64.3</td>\n",
       "      <td>108.7</td>\n",
       "      <td>76.8</td>\n",
       "      <td>6.1</td>\n",
       "    </tr>\n",
       "    <tr>\n",
       "      <th>2</th>\n",
       "      <td>175.6</td>\n",
       "      <td>65.0</td>\n",
       "      <td>113.4</td>\n",
       "      <td>64.6</td>\n",
       "      <td>5.7</td>\n",
       "    </tr>\n",
       "    <tr>\n",
       "      <th>3</th>\n",
       "      <td>173.2</td>\n",
       "      <td>63.3</td>\n",
       "      <td>112.2</td>\n",
       "      <td>83.1</td>\n",
       "      <td>6.1</td>\n",
       "    </tr>\n",
       "    <tr>\n",
       "      <th>4</th>\n",
       "      <td>170.6</td>\n",
       "      <td>61.6</td>\n",
       "      <td>111.5</td>\n",
       "      <td>52.3</td>\n",
       "      <td>5.0</td>\n",
       "    </tr>\n",
       "    <tr>\n",
       "      <th>...</th>\n",
       "      <td>...</td>\n",
       "      <td>...</td>\n",
       "      <td>...</td>\n",
       "      <td>...</td>\n",
       "      <td>...</td>\n",
       "    </tr>\n",
       "    <tr>\n",
       "      <th>373</th>\n",
       "      <td>259.8</td>\n",
       "      <td>143.2</td>\n",
       "      <td>160.8</td>\n",
       "      <td>2.9</td>\n",
       "      <td>6.8</td>\n",
       "    </tr>\n",
       "    <tr>\n",
       "      <th>374</th>\n",
       "      <td>266.3</td>\n",
       "      <td>143.3</td>\n",
       "      <td>170.9</td>\n",
       "      <td>6.7</td>\n",
       "      <td>6.8</td>\n",
       "    </tr>\n",
       "    <tr>\n",
       "      <th>375</th>\n",
       "      <td>280.7</td>\n",
       "      <td>142.0</td>\n",
       "      <td>202.6</td>\n",
       "      <td>6.7</td>\n",
       "      <td>6.9</td>\n",
       "    </tr>\n",
       "    <tr>\n",
       "      <th>376</th>\n",
       "      <td>287.9</td>\n",
       "      <td>138.7</td>\n",
       "      <td>220.5</td>\n",
       "      <td>4.3</td>\n",
       "      <td>6.5</td>\n",
       "    </tr>\n",
       "    <tr>\n",
       "      <th>377</th>\n",
       "      <td>286.0</td>\n",
       "      <td>140.0</td>\n",
       "      <td>215.8</td>\n",
       "      <td>4.1</td>\n",
       "      <td>6.4</td>\n",
       "    </tr>\n",
       "  </tbody>\n",
       "</table>\n",
       "<p>378 rows × 5 columns</p>\n",
       "</div>"
      ],
      "text/plain": [
       "     STP_Inlet-COD_U  STP_Inlet-BOD_U  STP_Inlet-TSS_U  \\\n",
       "0              170.4             64.4            108.6   \n",
       "1              170.2             64.3            108.7   \n",
       "2              175.6             65.0            113.4   \n",
       "3              173.2             63.3            112.2   \n",
       "4              170.6             61.6            111.5   \n",
       "..               ...              ...              ...   \n",
       "373            259.8            143.2            160.8   \n",
       "374            266.3            143.3            170.9   \n",
       "375            280.7            142.0            202.6   \n",
       "376            287.9            138.7            220.5   \n",
       "377            286.0            140.0            215.8   \n",
       "\n",
       "     STP_Inlet-Total_nitrogen_U  STP_Inlet-Total Phosphorus_U  \n",
       "0                          67.0                           6.3  \n",
       "1                          76.8                           6.1  \n",
       "2                          64.6                           5.7  \n",
       "3                          83.1                           6.1  \n",
       "4                          52.3                           5.0  \n",
       "..                          ...                           ...  \n",
       "373                         2.9                           6.8  \n",
       "374                         6.7                           6.8  \n",
       "375                         6.7                           6.9  \n",
       "376                         4.3                           6.5  \n",
       "377                         4.1                           6.4  \n",
       "\n",
       "[378 rows x 5 columns]"
      ]
     },
     "execution_count": 4,
     "metadata": {},
     "output_type": "execute_result"
    }
   ],
   "source": [
    "x= df.drop('STP_Outlet-TSS_U', axis=1)\n",
    "x"
   ]
  },
  {
   "cell_type": "markdown",
   "id": "82100f37",
   "metadata": {},
   "source": [
    "## Data splitting"
   ]
  },
  {
   "cell_type": "code",
   "execution_count": 5,
   "id": "bccb7d49",
   "metadata": {},
   "outputs": [],
   "source": [
    "import numpy as np\n",
    "from sklearn.model_selection import train_test_split\n",
    "\n",
    "x_train, x_test, y_train, y_test = train_test_split(x, y, test_size=0.2, random_state=100)"
   ]
  },
  {
   "cell_type": "markdown",
   "id": "7e7fb7ea",
   "metadata": {},
   "source": [
    "### Training Data"
   ]
  },
  {
   "cell_type": "code",
   "execution_count": 6,
   "id": "ad35ae38",
   "metadata": {},
   "outputs": [
    {
     "data": {
      "text/html": [
       "<div>\n",
       "<style scoped>\n",
       "    .dataframe tbody tr th:only-of-type {\n",
       "        vertical-align: middle;\n",
       "    }\n",
       "\n",
       "    .dataframe tbody tr th {\n",
       "        vertical-align: top;\n",
       "    }\n",
       "\n",
       "    .dataframe thead th {\n",
       "        text-align: right;\n",
       "    }\n",
       "</style>\n",
       "<table border=\"1\" class=\"dataframe\">\n",
       "  <thead>\n",
       "    <tr style=\"text-align: right;\">\n",
       "      <th></th>\n",
       "      <th>STP_Inlet-COD_U</th>\n",
       "      <th>STP_Inlet-BOD_U</th>\n",
       "      <th>STP_Inlet-TSS_U</th>\n",
       "      <th>STP_Inlet-Total_nitrogen_U</th>\n",
       "      <th>STP_Inlet-Total Phosphorus_U</th>\n",
       "    </tr>\n",
       "  </thead>\n",
       "  <tbody>\n",
       "    <tr>\n",
       "      <th>205</th>\n",
       "      <td>197.9</td>\n",
       "      <td>94.6</td>\n",
       "      <td>135.6</td>\n",
       "      <td>11.1</td>\n",
       "      <td>6.7</td>\n",
       "    </tr>\n",
       "    <tr>\n",
       "      <th>326</th>\n",
       "      <td>229.0</td>\n",
       "      <td>126.6</td>\n",
       "      <td>141.2</td>\n",
       "      <td>1.8</td>\n",
       "      <td>6.7</td>\n",
       "    </tr>\n",
       "    <tr>\n",
       "      <th>97</th>\n",
       "      <td>183.6</td>\n",
       "      <td>77.5</td>\n",
       "      <td>131.1</td>\n",
       "      <td>57.7</td>\n",
       "      <td>6.6</td>\n",
       "    </tr>\n",
       "    <tr>\n",
       "      <th>204</th>\n",
       "      <td>200.3</td>\n",
       "      <td>97.3</td>\n",
       "      <td>136.4</td>\n",
       "      <td>16.6</td>\n",
       "      <td>6.9</td>\n",
       "    </tr>\n",
       "    <tr>\n",
       "      <th>3</th>\n",
       "      <td>173.2</td>\n",
       "      <td>63.3</td>\n",
       "      <td>112.2</td>\n",
       "      <td>83.1</td>\n",
       "      <td>6.1</td>\n",
       "    </tr>\n",
       "    <tr>\n",
       "      <th>...</th>\n",
       "      <td>...</td>\n",
       "      <td>...</td>\n",
       "      <td>...</td>\n",
       "      <td>...</td>\n",
       "      <td>...</td>\n",
       "    </tr>\n",
       "    <tr>\n",
       "      <th>343</th>\n",
       "      <td>238.7</td>\n",
       "      <td>135.2</td>\n",
       "      <td>148.9</td>\n",
       "      <td>2.2</td>\n",
       "      <td>6.4</td>\n",
       "    </tr>\n",
       "    <tr>\n",
       "      <th>359</th>\n",
       "      <td>249.5</td>\n",
       "      <td>139.6</td>\n",
       "      <td>160.8</td>\n",
       "      <td>1.5</td>\n",
       "      <td>6.0</td>\n",
       "    </tr>\n",
       "    <tr>\n",
       "      <th>323</th>\n",
       "      <td>229.5</td>\n",
       "      <td>127.3</td>\n",
       "      <td>142.1</td>\n",
       "      <td>1.9</td>\n",
       "      <td>6.7</td>\n",
       "    </tr>\n",
       "    <tr>\n",
       "      <th>280</th>\n",
       "      <td>203.8</td>\n",
       "      <td>95.9</td>\n",
       "      <td>139.8</td>\n",
       "      <td>1.7</td>\n",
       "      <td>6.8</td>\n",
       "    </tr>\n",
       "    <tr>\n",
       "      <th>8</th>\n",
       "      <td>169.2</td>\n",
       "      <td>62.5</td>\n",
       "      <td>109.5</td>\n",
       "      <td>73.5</td>\n",
       "      <td>6.7</td>\n",
       "    </tr>\n",
       "  </tbody>\n",
       "</table>\n",
       "<p>302 rows × 5 columns</p>\n",
       "</div>"
      ],
      "text/plain": [
       "     STP_Inlet-COD_U  STP_Inlet-BOD_U  STP_Inlet-TSS_U  \\\n",
       "205            197.9             94.6            135.6   \n",
       "326            229.0            126.6            141.2   \n",
       "97             183.6             77.5            131.1   \n",
       "204            200.3             97.3            136.4   \n",
       "3              173.2             63.3            112.2   \n",
       "..               ...              ...              ...   \n",
       "343            238.7            135.2            148.9   \n",
       "359            249.5            139.6            160.8   \n",
       "323            229.5            127.3            142.1   \n",
       "280            203.8             95.9            139.8   \n",
       "8              169.2             62.5            109.5   \n",
       "\n",
       "     STP_Inlet-Total_nitrogen_U  STP_Inlet-Total Phosphorus_U  \n",
       "205                        11.1                           6.7  \n",
       "326                         1.8                           6.7  \n",
       "97                         57.7                           6.6  \n",
       "204                        16.6                           6.9  \n",
       "3                          83.1                           6.1  \n",
       "..                          ...                           ...  \n",
       "343                         2.2                           6.4  \n",
       "359                         1.5                           6.0  \n",
       "323                         1.9                           6.7  \n",
       "280                         1.7                           6.8  \n",
       "8                          73.5                           6.7  \n",
       "\n",
       "[302 rows x 5 columns]"
      ]
     },
     "execution_count": 6,
     "metadata": {},
     "output_type": "execute_result"
    }
   ],
   "source": [
    "x_train"
   ]
  },
  {
   "cell_type": "markdown",
   "id": "8f135c86",
   "metadata": {},
   "source": [
    "### Testing Data"
   ]
  },
  {
   "cell_type": "code",
   "execution_count": 7,
   "id": "d96c740d",
   "metadata": {},
   "outputs": [
    {
     "data": {
      "text/html": [
       "<div>\n",
       "<style scoped>\n",
       "    .dataframe tbody tr th:only-of-type {\n",
       "        vertical-align: middle;\n",
       "    }\n",
       "\n",
       "    .dataframe tbody tr th {\n",
       "        vertical-align: top;\n",
       "    }\n",
       "\n",
       "    .dataframe thead th {\n",
       "        text-align: right;\n",
       "    }\n",
       "</style>\n",
       "<table border=\"1\" class=\"dataframe\">\n",
       "  <thead>\n",
       "    <tr style=\"text-align: right;\">\n",
       "      <th></th>\n",
       "      <th>STP_Inlet-COD_U</th>\n",
       "      <th>STP_Inlet-BOD_U</th>\n",
       "      <th>STP_Inlet-TSS_U</th>\n",
       "      <th>STP_Inlet-Total_nitrogen_U</th>\n",
       "      <th>STP_Inlet-Total Phosphorus_U</th>\n",
       "    </tr>\n",
       "  </thead>\n",
       "  <tbody>\n",
       "    <tr>\n",
       "      <th>331</th>\n",
       "      <td>230.8</td>\n",
       "      <td>128.0</td>\n",
       "      <td>142.1</td>\n",
       "      <td>2.2</td>\n",
       "      <td>6.9</td>\n",
       "    </tr>\n",
       "    <tr>\n",
       "      <th>158</th>\n",
       "      <td>180.0</td>\n",
       "      <td>70.8</td>\n",
       "      <td>135.0</td>\n",
       "      <td>2.3</td>\n",
       "      <td>2.8</td>\n",
       "    </tr>\n",
       "    <tr>\n",
       "      <th>300</th>\n",
       "      <td>219.7</td>\n",
       "      <td>116.1</td>\n",
       "      <td>141.5</td>\n",
       "      <td>1.2</td>\n",
       "      <td>6.4</td>\n",
       "    </tr>\n",
       "    <tr>\n",
       "      <th>272</th>\n",
       "      <td>201.1</td>\n",
       "      <td>95.8</td>\n",
       "      <td>139.2</td>\n",
       "      <td>15.7</td>\n",
       "      <td>6.9</td>\n",
       "    </tr>\n",
       "    <tr>\n",
       "      <th>142</th>\n",
       "      <td>182.7</td>\n",
       "      <td>69.6</td>\n",
       "      <td>134.0</td>\n",
       "      <td>30.3</td>\n",
       "      <td>6.8</td>\n",
       "    </tr>\n",
       "    <tr>\n",
       "      <th>...</th>\n",
       "      <td>...</td>\n",
       "      <td>...</td>\n",
       "      <td>...</td>\n",
       "      <td>...</td>\n",
       "      <td>...</td>\n",
       "    </tr>\n",
       "    <tr>\n",
       "      <th>153</th>\n",
       "      <td>184.4</td>\n",
       "      <td>81.9</td>\n",
       "      <td>131.0</td>\n",
       "      <td>4.8</td>\n",
       "      <td>5.2</td>\n",
       "    </tr>\n",
       "    <tr>\n",
       "      <th>324</th>\n",
       "      <td>228.6</td>\n",
       "      <td>126.8</td>\n",
       "      <td>141.4</td>\n",
       "      <td>1.8</td>\n",
       "      <td>6.7</td>\n",
       "    </tr>\n",
       "    <tr>\n",
       "      <th>374</th>\n",
       "      <td>266.3</td>\n",
       "      <td>143.3</td>\n",
       "      <td>170.9</td>\n",
       "      <td>6.7</td>\n",
       "      <td>6.8</td>\n",
       "    </tr>\n",
       "    <tr>\n",
       "      <th>356</th>\n",
       "      <td>245.5</td>\n",
       "      <td>134.9</td>\n",
       "      <td>154.9</td>\n",
       "      <td>2.4</td>\n",
       "      <td>5.6</td>\n",
       "    </tr>\n",
       "    <tr>\n",
       "      <th>6</th>\n",
       "      <td>167.5</td>\n",
       "      <td>59.2</td>\n",
       "      <td>111.0</td>\n",
       "      <td>20.0</td>\n",
       "      <td>4.1</td>\n",
       "    </tr>\n",
       "  </tbody>\n",
       "</table>\n",
       "<p>76 rows × 5 columns</p>\n",
       "</div>"
      ],
      "text/plain": [
       "     STP_Inlet-COD_U  STP_Inlet-BOD_U  STP_Inlet-TSS_U  \\\n",
       "331            230.8            128.0            142.1   \n",
       "158            180.0             70.8            135.0   \n",
       "300            219.7            116.1            141.5   \n",
       "272            201.1             95.8            139.2   \n",
       "142            182.7             69.6            134.0   \n",
       "..               ...              ...              ...   \n",
       "153            184.4             81.9            131.0   \n",
       "324            228.6            126.8            141.4   \n",
       "374            266.3            143.3            170.9   \n",
       "356            245.5            134.9            154.9   \n",
       "6              167.5             59.2            111.0   \n",
       "\n",
       "     STP_Inlet-Total_nitrogen_U  STP_Inlet-Total Phosphorus_U  \n",
       "331                         2.2                           6.9  \n",
       "158                         2.3                           2.8  \n",
       "300                         1.2                           6.4  \n",
       "272                        15.7                           6.9  \n",
       "142                        30.3                           6.8  \n",
       "..                          ...                           ...  \n",
       "153                         4.8                           5.2  \n",
       "324                         1.8                           6.7  \n",
       "374                         6.7                           6.8  \n",
       "356                         2.4                           5.6  \n",
       "6                          20.0                           4.1  \n",
       "\n",
       "[76 rows x 5 columns]"
      ]
     },
     "execution_count": 7,
     "metadata": {},
     "output_type": "execute_result"
    }
   ],
   "source": [
    "x_test"
   ]
  },
  {
   "cell_type": "code",
   "execution_count": 8,
   "id": "c07d0c7d",
   "metadata": {},
   "outputs": [
    {
     "data": {
      "text/plain": [
       "205     8.3\n",
       "326     4.6\n",
       "97     12.1\n",
       "204     8.1\n",
       "3      13.7\n",
       "       ... \n",
       "343     4.5\n",
       "359     4.8\n",
       "323     4.6\n",
       "280     8.9\n",
       "8      13.6\n",
       "Name: STP_Outlet-TSS_U, Length: 302, dtype: float64"
      ]
     },
     "execution_count": 8,
     "metadata": {},
     "output_type": "execute_result"
    }
   ],
   "source": [
    "y_train"
   ]
  },
  {
   "cell_type": "markdown",
   "id": "c4cf0628",
   "metadata": {},
   "source": [
    "## Model Building"
   ]
  },
  {
   "cell_type": "markdown",
   "id": "84a49c98",
   "metadata": {},
   "source": [
    "### Random Forest"
   ]
  },
  {
   "cell_type": "markdown",
   "id": "7fedc7c3",
   "metadata": {},
   "source": [
    "### Training"
   ]
  },
  {
   "cell_type": "code",
   "execution_count": 9,
   "id": "87da67cd",
   "metadata": {},
   "outputs": [
    {
     "data": {
      "text/html": [
       "<style>#sk-container-id-1 {color: black;}#sk-container-id-1 pre{padding: 0;}#sk-container-id-1 div.sk-toggleable {background-color: white;}#sk-container-id-1 label.sk-toggleable__label {cursor: pointer;display: block;width: 100%;margin-bottom: 0;padding: 0.3em;box-sizing: border-box;text-align: center;}#sk-container-id-1 label.sk-toggleable__label-arrow:before {content: \"▸\";float: left;margin-right: 0.25em;color: #696969;}#sk-container-id-1 label.sk-toggleable__label-arrow:hover:before {color: black;}#sk-container-id-1 div.sk-estimator:hover label.sk-toggleable__label-arrow:before {color: black;}#sk-container-id-1 div.sk-toggleable__content {max-height: 0;max-width: 0;overflow: hidden;text-align: left;background-color: #f0f8ff;}#sk-container-id-1 div.sk-toggleable__content pre {margin: 0.2em;color: black;border-radius: 0.25em;background-color: #f0f8ff;}#sk-container-id-1 input.sk-toggleable__control:checked~div.sk-toggleable__content {max-height: 200px;max-width: 100%;overflow: auto;}#sk-container-id-1 input.sk-toggleable__control:checked~label.sk-toggleable__label-arrow:before {content: \"▾\";}#sk-container-id-1 div.sk-estimator input.sk-toggleable__control:checked~label.sk-toggleable__label {background-color: #d4ebff;}#sk-container-id-1 div.sk-label input.sk-toggleable__control:checked~label.sk-toggleable__label {background-color: #d4ebff;}#sk-container-id-1 input.sk-hidden--visually {border: 0;clip: rect(1px 1px 1px 1px);clip: rect(1px, 1px, 1px, 1px);height: 1px;margin: -1px;overflow: hidden;padding: 0;position: absolute;width: 1px;}#sk-container-id-1 div.sk-estimator {font-family: monospace;background-color: #f0f8ff;border: 1px dotted black;border-radius: 0.25em;box-sizing: border-box;margin-bottom: 0.5em;}#sk-container-id-1 div.sk-estimator:hover {background-color: #d4ebff;}#sk-container-id-1 div.sk-parallel-item::after {content: \"\";width: 100%;border-bottom: 1px solid gray;flex-grow: 1;}#sk-container-id-1 div.sk-label:hover label.sk-toggleable__label {background-color: #d4ebff;}#sk-container-id-1 div.sk-serial::before {content: \"\";position: absolute;border-left: 1px solid gray;box-sizing: border-box;top: 0;bottom: 0;left: 50%;z-index: 0;}#sk-container-id-1 div.sk-serial {display: flex;flex-direction: column;align-items: center;background-color: white;padding-right: 0.2em;padding-left: 0.2em;position: relative;}#sk-container-id-1 div.sk-item {position: relative;z-index: 1;}#sk-container-id-1 div.sk-parallel {display: flex;align-items: stretch;justify-content: center;background-color: white;position: relative;}#sk-container-id-1 div.sk-item::before, #sk-container-id-1 div.sk-parallel-item::before {content: \"\";position: absolute;border-left: 1px solid gray;box-sizing: border-box;top: 0;bottom: 0;left: 50%;z-index: -1;}#sk-container-id-1 div.sk-parallel-item {display: flex;flex-direction: column;z-index: 1;position: relative;background-color: white;}#sk-container-id-1 div.sk-parallel-item:first-child::after {align-self: flex-end;width: 50%;}#sk-container-id-1 div.sk-parallel-item:last-child::after {align-self: flex-start;width: 50%;}#sk-container-id-1 div.sk-parallel-item:only-child::after {width: 0;}#sk-container-id-1 div.sk-dashed-wrapped {border: 1px dashed gray;margin: 0 0.4em 0.5em 0.4em;box-sizing: border-box;padding-bottom: 0.4em;background-color: white;}#sk-container-id-1 div.sk-label label {font-family: monospace;font-weight: bold;display: inline-block;line-height: 1.2em;}#sk-container-id-1 div.sk-label-container {text-align: center;}#sk-container-id-1 div.sk-container {/* jupyter's `normalize.less` sets `[hidden] { display: none; }` but bootstrap.min.css set `[hidden] { display: none !important; }` so we also need the `!important` here to be able to override the default hidden behavior on the sphinx rendered scikit-learn.org. See: https://github.com/scikit-learn/scikit-learn/issues/21755 */display: inline-block !important;position: relative;}#sk-container-id-1 div.sk-text-repr-fallback {display: none;}</style><div id=\"sk-container-id-1\" class=\"sk-top-container\"><div class=\"sk-text-repr-fallback\"><pre>RandomForestRegressor(max_depth=10, random_state=100)</pre><b>In a Jupyter environment, please rerun this cell to show the HTML representation or trust the notebook. <br />On GitHub, the HTML representation is unable to render, please try loading this page with nbviewer.org.</b></div><div class=\"sk-container\" hidden><div class=\"sk-item\"><div class=\"sk-estimator sk-toggleable\"><input class=\"sk-toggleable__control sk-hidden--visually\" id=\"sk-estimator-id-1\" type=\"checkbox\" checked><label for=\"sk-estimator-id-1\" class=\"sk-toggleable__label sk-toggleable__label-arrow\">RandomForestRegressor</label><div class=\"sk-toggleable__content\"><pre>RandomForestRegressor(max_depth=10, random_state=100)</pre></div></div></div></div></div>"
      ],
      "text/plain": [
       "RandomForestRegressor(max_depth=10, random_state=100)"
      ]
     },
     "execution_count": 9,
     "metadata": {},
     "output_type": "execute_result"
    }
   ],
   "source": [
    "from sklearn.ensemble import RandomForestRegressor\n",
    "rf= RandomForestRegressor( max_depth= 10, random_state=100)\n",
    "rf.fit(x_train, y_train)"
   ]
  },
  {
   "cell_type": "markdown",
   "id": "b22eedf0",
   "metadata": {},
   "source": [
    "### Prediction by model"
   ]
  },
  {
   "cell_type": "code",
   "execution_count": 10,
   "id": "df18a3fa",
   "metadata": {},
   "outputs": [],
   "source": [
    "y_rf_train_pred= rf.predict(x_train)\n",
    "y_rf_test_pred= rf.predict(x_test)"
   ]
  },
  {
   "cell_type": "markdown",
   "id": "1993d2ef",
   "metadata": {},
   "source": [
    "### Evaluation of Model"
   ]
  },
  {
   "cell_type": "code",
   "execution_count": 11,
   "id": "b47d54d7",
   "metadata": {},
   "outputs": [],
   "source": [
    "from sklearn.metrics import mean_squared_error, r2_score\n",
    "\n",
    "rf_train_mse= mean_squared_error(y_train, y_rf_train_pred)\n",
    "rf_train_r2= r2_score(y_train, y_rf_train_pred)\n",
    "\n",
    "rf_test_mse= mean_squared_error(y_test, y_rf_test_pred)\n",
    "rf_test_r2= r2_score(y_test, y_rf_test_pred)"
   ]
  },
  {
   "cell_type": "code",
   "execution_count": 12,
   "id": "d4331464",
   "metadata": {},
   "outputs": [
    {
     "data": {
      "text/plain": [
       "0.7431272473165422"
      ]
     },
     "execution_count": 12,
     "metadata": {},
     "output_type": "execute_result"
    }
   ],
   "source": [
    "rf_test_r2"
   ]
  },
  {
   "cell_type": "code",
   "execution_count": 13,
   "id": "0f378fc6",
   "metadata": {},
   "outputs": [
    {
     "data": {
      "text/html": [
       "<div>\n",
       "<style scoped>\n",
       "    .dataframe tbody tr th:only-of-type {\n",
       "        vertical-align: middle;\n",
       "    }\n",
       "\n",
       "    .dataframe tbody tr th {\n",
       "        vertical-align: top;\n",
       "    }\n",
       "\n",
       "    .dataframe thead th {\n",
       "        text-align: right;\n",
       "    }\n",
       "</style>\n",
       "<table border=\"1\" class=\"dataframe\">\n",
       "  <thead>\n",
       "    <tr style=\"text-align: right;\">\n",
       "      <th></th>\n",
       "      <th>0</th>\n",
       "      <th>1</th>\n",
       "      <th>2</th>\n",
       "      <th>3</th>\n",
       "      <th>4</th>\n",
       "    </tr>\n",
       "  </thead>\n",
       "  <tbody>\n",
       "    <tr>\n",
       "      <th>0</th>\n",
       "      <td>Random Forest</td>\n",
       "      <td>0.677807</td>\n",
       "      <td>0.945069</td>\n",
       "      <td>1.973033</td>\n",
       "      <td>0.743127</td>\n",
       "    </tr>\n",
       "  </tbody>\n",
       "</table>\n",
       "</div>"
      ],
      "text/plain": [
       "               0         1         2         3         4\n",
       "0  Random Forest  0.677807  0.945069  1.973033  0.743127"
      ]
     },
     "execution_count": 13,
     "metadata": {},
     "output_type": "execute_result"
    }
   ],
   "source": [
    "import pandas as pd\n",
    "rf_results= pd.DataFrame(['Random Forest', rf_train_mse, rf_train_r2, rf_test_mse, rf_test_r2]).transpose()\n",
    "rf_results"
   ]
  },
  {
   "cell_type": "code",
   "execution_count": 14,
   "id": "3a5c6183",
   "metadata": {},
   "outputs": [
    {
     "data": {
      "text/html": [
       "<div>\n",
       "<style scoped>\n",
       "    .dataframe tbody tr th:only-of-type {\n",
       "        vertical-align: middle;\n",
       "    }\n",
       "\n",
       "    .dataframe tbody tr th {\n",
       "        vertical-align: top;\n",
       "    }\n",
       "\n",
       "    .dataframe thead th {\n",
       "        text-align: right;\n",
       "    }\n",
       "</style>\n",
       "<table border=\"1\" class=\"dataframe\">\n",
       "  <thead>\n",
       "    <tr style=\"text-align: right;\">\n",
       "      <th></th>\n",
       "      <th>Methods</th>\n",
       "      <th>Train MSE</th>\n",
       "      <th>Train R2</th>\n",
       "      <th>Test MSE</th>\n",
       "      <th>Test R2</th>\n",
       "    </tr>\n",
       "  </thead>\n",
       "  <tbody>\n",
       "    <tr>\n",
       "      <th>0</th>\n",
       "      <td>Random Forest</td>\n",
       "      <td>0.677807</td>\n",
       "      <td>0.945069</td>\n",
       "      <td>1.973033</td>\n",
       "      <td>0.743127</td>\n",
       "    </tr>\n",
       "  </tbody>\n",
       "</table>\n",
       "</div>"
      ],
      "text/plain": [
       "         Methods Train MSE  Train R2  Test MSE   Test R2\n",
       "0  Random Forest  0.677807  0.945069  1.973033  0.743127"
      ]
     },
     "execution_count": 14,
     "metadata": {},
     "output_type": "execute_result"
    }
   ],
   "source": [
    "rf_results.columns = ['Methods', 'Train MSE','Train R2', 'Test MSE', 'Test R2']\n",
    "rf_results"
   ]
  },
  {
   "cell_type": "markdown",
   "id": "468bdae4",
   "metadata": {},
   "source": [
    "#### The lower the MSE, the better the model predictive accuracy, and, the better the regression model is.The greater the value of R-Squared, the better is the regression model."
   ]
  },
  {
   "cell_type": "code",
   "execution_count": 15,
   "id": "8422853f",
   "metadata": {},
   "outputs": [],
   "source": [
    "import matplotlib.pyplot as plt\n",
    "import numpy as num"
   ]
  },
  {
   "cell_type": "code",
   "execution_count": 16,
   "id": "eb7cad78",
   "metadata": {},
   "outputs": [
    {
     "data": {
      "text/plain": [
       "Text(0, 0.5, 'Y_Test_Prediction')"
      ]
     },
     "execution_count": 16,
     "metadata": {},
     "output_type": "execute_result"
    },
    {
     "data": {
      "image/png": "[encoded data removed]",
      "text/plain": [
       "<Figure size 500x500 with 1 Axes>"
      ]
     },
     "metadata": {},
     "output_type": "display_data"
    }
   ],
   "source": [
    "plt.figure(figsize=(5,5))\n",
    "\n",
    "plt.scatter (y=y_rf_test_pred, x=y_test, label='Original')\n",
    "\n",
    "\n",
    "\n",
    "z= np.polyfit (y_test, y_rf_test_pred,1)\n",
    "p= np.poly1d(z)\n",
    "\n",
    "plt.plot(y_test, p(y_test), '#F8776D')\n",
    "plt.xlabel('Y Test')\n",
    "plt.ylabel('Y_Test_Prediction')"
   ]
  },
  {
   "cell_type": "code",
   "execution_count": 17,
   "id": "ef42054a",
   "metadata": {},
   "outputs": [
    {
     "data": {
      "text/plain": [
       "Text(0, 0.5, 'Y_Test_Prediction')"
      ]
     },
     "execution_count": 17,
     "metadata": {},
     "output_type": "execute_result"
    },
    {
     "data": {
      "image/png": "[encoded data removed]",
      "text/plain": [
       "<Figure size 500x500 with 1 Axes>"
      ]
     },
     "metadata": {},
     "output_type": "display_data"
    }
   ],
   "source": [
    "plt.figure(figsize=(5,5))\n",
    "plt.title('RF (Outlet TSS)')\n",
    "plt.scatter (y=y_rf_train_pred, x=y_train, label='Original')\n",
    "\n",
    "\n",
    "\n",
    "z= np.polyfit (y_train, y_rf_train_pred,1)\n",
    "p= np.poly1d(z)\n",
    "\n",
    "plt.plot(y_train, p(y_train), '#F8776D')\n",
    "plt.xlabel('Y Test')\n",
    "plt.ylabel('Y_Test_Prediction')"
   ]
  },
  {
   "cell_type": "code",
   "execution_count": null,
   "id": "81bfba50-0cd3-4baa-8e33-ed916dd3ce1f",
   "metadata": {},
   "outputs": [],
   "source": []
  }
 ],
 "metadata": {
  "kernelspec": {
   "display_name": "Python 3 (ipykernel)",
   "language": "python",
   "name": "python3"
  },
  "language_info": {
   "codemirror_mode": {
    "name": "ipython",
    "version": 3
   },
   "file_extension": ".py",
   "mimetype": "text/x-python",
   "name": "python",
   "nbconvert_exporter": "python",
   "pygments_lexer": "ipython3",
   "version": "3.11.5"
  }
 },
 "nbformat": 4,
 "nbformat_minor": 5
}
