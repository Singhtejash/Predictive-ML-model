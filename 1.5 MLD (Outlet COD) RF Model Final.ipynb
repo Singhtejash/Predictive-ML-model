{
 "cells": [
  {
   "cell_type": "code",
   "execution_count": 1,
   "id": "c60cf303",
   "metadata": {},
   "outputs": [],
   "source": [
    "import pandas as pd\n",
    "from sklearn.ensemble import RandomForestRegressor"
   ]
  },
  {
   "cell_type": "markdown",
   "id": "627950f9",
   "metadata": {},
   "source": [
    "# Data Upload"
   ]
  },
  {
   "cell_type": "code",
   "execution_count": 2,
   "id": "731f54b5",
   "metadata": {},
   "outputs": [
    {
     "data": {
      "text/html": [
       "<div>\n",
       "<style scoped>\n",
       "    .dataframe tbody tr th:only-of-type {\n",
       "        vertical-align: middle;\n",
       "    }\n",
       "\n",
       "    .dataframe tbody tr th {\n",
       "        vertical-align: top;\n",
       "    }\n",
       "\n",
       "    .dataframe thead th {\n",
       "        text-align: right;\n",
       "    }\n",
       "</style>\n",
       "<table border=\"1\" class=\"dataframe\">\n",
       "  <thead>\n",
       "    <tr style=\"text-align: right;\">\n",
       "      <th></th>\n",
       "      <th>STP_Inlet-COD_U</th>\n",
       "      <th>STP_Inlet-BOD_U</th>\n",
       "      <th>STP_Inlet-TSS_U</th>\n",
       "      <th>STP_Inlet-Total_nitrogen_U</th>\n",
       "      <th>STP_Inlet-Total Phosphorus_U</th>\n",
       "      <th>STP_Outlet-COD_U</th>\n",
       "    </tr>\n",
       "  </thead>\n",
       "  <tbody>\n",
       "    <tr>\n",
       "      <th>0</th>\n",
       "      <td>170.4</td>\n",
       "      <td>64.4</td>\n",
       "      <td>108.6</td>\n",
       "      <td>67.0</td>\n",
       "      <td>6.3</td>\n",
       "      <td>56.7</td>\n",
       "    </tr>\n",
       "    <tr>\n",
       "      <th>1</th>\n",
       "      <td>170.2</td>\n",
       "      <td>64.3</td>\n",
       "      <td>108.7</td>\n",
       "      <td>76.8</td>\n",
       "      <td>6.1</td>\n",
       "      <td>57.1</td>\n",
       "    </tr>\n",
       "    <tr>\n",
       "      <th>2</th>\n",
       "      <td>175.6</td>\n",
       "      <td>65.0</td>\n",
       "      <td>113.4</td>\n",
       "      <td>64.6</td>\n",
       "      <td>5.7</td>\n",
       "      <td>57.7</td>\n",
       "    </tr>\n",
       "    <tr>\n",
       "      <th>3</th>\n",
       "      <td>173.2</td>\n",
       "      <td>63.3</td>\n",
       "      <td>112.2</td>\n",
       "      <td>83.1</td>\n",
       "      <td>6.1</td>\n",
       "      <td>58.4</td>\n",
       "    </tr>\n",
       "    <tr>\n",
       "      <th>4</th>\n",
       "      <td>170.6</td>\n",
       "      <td>61.6</td>\n",
       "      <td>111.5</td>\n",
       "      <td>52.3</td>\n",
       "      <td>5.0</td>\n",
       "      <td>58.6</td>\n",
       "    </tr>\n",
       "    <tr>\n",
       "      <th>...</th>\n",
       "      <td>...</td>\n",
       "      <td>...</td>\n",
       "      <td>...</td>\n",
       "      <td>...</td>\n",
       "      <td>...</td>\n",
       "      <td>...</td>\n",
       "    </tr>\n",
       "    <tr>\n",
       "      <th>355</th>\n",
       "      <td>259.8</td>\n",
       "      <td>143.2</td>\n",
       "      <td>160.8</td>\n",
       "      <td>2.9</td>\n",
       "      <td>6.8</td>\n",
       "      <td>41.1</td>\n",
       "    </tr>\n",
       "    <tr>\n",
       "      <th>356</th>\n",
       "      <td>266.3</td>\n",
       "      <td>143.3</td>\n",
       "      <td>170.9</td>\n",
       "      <td>6.7</td>\n",
       "      <td>6.8</td>\n",
       "      <td>41.4</td>\n",
       "    </tr>\n",
       "    <tr>\n",
       "      <th>357</th>\n",
       "      <td>280.7</td>\n",
       "      <td>142.0</td>\n",
       "      <td>202.6</td>\n",
       "      <td>6.7</td>\n",
       "      <td>6.9</td>\n",
       "      <td>41.5</td>\n",
       "    </tr>\n",
       "    <tr>\n",
       "      <th>358</th>\n",
       "      <td>287.9</td>\n",
       "      <td>138.7</td>\n",
       "      <td>220.5</td>\n",
       "      <td>4.3</td>\n",
       "      <td>6.5</td>\n",
       "      <td>41.7</td>\n",
       "    </tr>\n",
       "    <tr>\n",
       "      <th>359</th>\n",
       "      <td>286.0</td>\n",
       "      <td>140.0</td>\n",
       "      <td>215.8</td>\n",
       "      <td>4.1</td>\n",
       "      <td>6.4</td>\n",
       "      <td>42.1</td>\n",
       "    </tr>\n",
       "  </tbody>\n",
       "</table>\n",
       "<p>360 rows × 6 columns</p>\n",
       "</div>"
      ],
      "text/plain": [
       "     STP_Inlet-COD_U  STP_Inlet-BOD_U  STP_Inlet-TSS_U  \\\n",
       "0              170.4             64.4            108.6   \n",
       "1              170.2             64.3            108.7   \n",
       "2              175.6             65.0            113.4   \n",
       "3              173.2             63.3            112.2   \n",
       "4              170.6             61.6            111.5   \n",
       "..               ...              ...              ...   \n",
       "355            259.8            143.2            160.8   \n",
       "356            266.3            143.3            170.9   \n",
       "357            280.7            142.0            202.6   \n",
       "358            287.9            138.7            220.5   \n",
       "359            286.0            140.0            215.8   \n",
       "\n",
       "     STP_Inlet-Total_nitrogen_U  STP_Inlet-Total Phosphorus_U  \\\n",
       "0                          67.0                           6.3   \n",
       "1                          76.8                           6.1   \n",
       "2                          64.6                           5.7   \n",
       "3                          83.1                           6.1   \n",
       "4                          52.3                           5.0   \n",
       "..                          ...                           ...   \n",
       "355                         2.9                           6.8   \n",
       "356                         6.7                           6.8   \n",
       "357                         6.7                           6.9   \n",
       "358                         4.3                           6.5   \n",
       "359                         4.1                           6.4   \n",
       "\n",
       "     STP_Outlet-COD_U  \n",
       "0                56.7  \n",
       "1                57.1  \n",
       "2                57.7  \n",
       "3                58.4  \n",
       "4                58.6  \n",
       "..                ...  \n",
       "355              41.1  \n",
       "356              41.4  \n",
       "357              41.5  \n",
       "358              41.7  \n",
       "359              42.1  \n",
       "\n",
       "[360 rows x 6 columns]"
      ]
     },
     "execution_count": 2,
     "metadata": {},
     "output_type": "execute_result"
    }
   ],
   "source": [
    "df= pd.read_excel(\"1.5 Mld (Outlet COD) - Copy.xlsx\")\n",
    "df"
   ]
  },
  {
   "cell_type": "markdown",
   "id": "d731ea3d",
   "metadata": {},
   "source": [
    "# Data preparation"
   ]
  },
  {
   "cell_type": "markdown",
   "id": "416177f7",
   "metadata": {},
   "source": [
    "## Separation of data in X and Y"
   ]
  },
  {
   "cell_type": "code",
   "execution_count": 3,
   "id": "7023e868",
   "metadata": {},
   "outputs": [
    {
     "data": {
      "text/plain": [
       "0      56.7\n",
       "1      57.1\n",
       "2      57.7\n",
       "3      58.4\n",
       "4      58.6\n",
       "       ... \n",
       "355    41.1\n",
       "356    41.4\n",
       "357    41.5\n",
       "358    41.7\n",
       "359    42.1\n",
       "Name: STP_Outlet-COD_U, Length: 360, dtype: float64"
      ]
     },
     "execution_count": 3,
     "metadata": {},
     "output_type": "execute_result"
    }
   ],
   "source": [
    "y= df['STP_Outlet-COD_U']\n",
    "y"
   ]
  },
  {
   "cell_type": "code",
   "execution_count": 4,
   "id": "a2572b7b",
   "metadata": {},
   "outputs": [
    {
     "data": {
      "text/html": [
       "<div>\n",
       "<style scoped>\n",
       "    .dataframe tbody tr th:only-of-type {\n",
       "        vertical-align: middle;\n",
       "    }\n",
       "\n",
       "    .dataframe tbody tr th {\n",
       "        vertical-align: top;\n",
       "    }\n",
       "\n",
       "    .dataframe thead th {\n",
       "        text-align: right;\n",
       "    }\n",
       "</style>\n",
       "<table border=\"1\" class=\"dataframe\">\n",
       "  <thead>\n",
       "    <tr style=\"text-align: right;\">\n",
       "      <th></th>\n",
       "      <th>STP_Inlet-COD_U</th>\n",
       "      <th>STP_Inlet-BOD_U</th>\n",
       "      <th>STP_Inlet-TSS_U</th>\n",
       "      <th>STP_Inlet-Total_nitrogen_U</th>\n",
       "      <th>STP_Inlet-Total Phosphorus_U</th>\n",
       "    </tr>\n",
       "  </thead>\n",
       "  <tbody>\n",
       "    <tr>\n",
       "      <th>0</th>\n",
       "      <td>170.4</td>\n",
       "      <td>64.4</td>\n",
       "      <td>108.6</td>\n",
       "      <td>67.0</td>\n",
       "      <td>6.3</td>\n",
       "    </tr>\n",
       "    <tr>\n",
       "      <th>1</th>\n",
       "      <td>170.2</td>\n",
       "      <td>64.3</td>\n",
       "      <td>108.7</td>\n",
       "      <td>76.8</td>\n",
       "      <td>6.1</td>\n",
       "    </tr>\n",
       "    <tr>\n",
       "      <th>2</th>\n",
       "      <td>175.6</td>\n",
       "      <td>65.0</td>\n",
       "      <td>113.4</td>\n",
       "      <td>64.6</td>\n",
       "      <td>5.7</td>\n",
       "    </tr>\n",
       "    <tr>\n",
       "      <th>3</th>\n",
       "      <td>173.2</td>\n",
       "      <td>63.3</td>\n",
       "      <td>112.2</td>\n",
       "      <td>83.1</td>\n",
       "      <td>6.1</td>\n",
       "    </tr>\n",
       "    <tr>\n",
       "      <th>4</th>\n",
       "      <td>170.6</td>\n",
       "      <td>61.6</td>\n",
       "      <td>111.5</td>\n",
       "      <td>52.3</td>\n",
       "      <td>5.0</td>\n",
       "    </tr>\n",
       "    <tr>\n",
       "      <th>...</th>\n",
       "      <td>...</td>\n",
       "      <td>...</td>\n",
       "      <td>...</td>\n",
       "      <td>...</td>\n",
       "      <td>...</td>\n",
       "    </tr>\n",
       "    <tr>\n",
       "      <th>355</th>\n",
       "      <td>259.8</td>\n",
       "      <td>143.2</td>\n",
       "      <td>160.8</td>\n",
       "      <td>2.9</td>\n",
       "      <td>6.8</td>\n",
       "    </tr>\n",
       "    <tr>\n",
       "      <th>356</th>\n",
       "      <td>266.3</td>\n",
       "      <td>143.3</td>\n",
       "      <td>170.9</td>\n",
       "      <td>6.7</td>\n",
       "      <td>6.8</td>\n",
       "    </tr>\n",
       "    <tr>\n",
       "      <th>357</th>\n",
       "      <td>280.7</td>\n",
       "      <td>142.0</td>\n",
       "      <td>202.6</td>\n",
       "      <td>6.7</td>\n",
       "      <td>6.9</td>\n",
       "    </tr>\n",
       "    <tr>\n",
       "      <th>358</th>\n",
       "      <td>287.9</td>\n",
       "      <td>138.7</td>\n",
       "      <td>220.5</td>\n",
       "      <td>4.3</td>\n",
       "      <td>6.5</td>\n",
       "    </tr>\n",
       "    <tr>\n",
       "      <th>359</th>\n",
       "      <td>286.0</td>\n",
       "      <td>140.0</td>\n",
       "      <td>215.8</td>\n",
       "      <td>4.1</td>\n",
       "      <td>6.4</td>\n",
       "    </tr>\n",
       "  </tbody>\n",
       "</table>\n",
       "<p>360 rows × 5 columns</p>\n",
       "</div>"
      ],
      "text/plain": [
       "     STP_Inlet-COD_U  STP_Inlet-BOD_U  STP_Inlet-TSS_U  \\\n",
       "0              170.4             64.4            108.6   \n",
       "1              170.2             64.3            108.7   \n",
       "2              175.6             65.0            113.4   \n",
       "3              173.2             63.3            112.2   \n",
       "4              170.6             61.6            111.5   \n",
       "..               ...              ...              ...   \n",
       "355            259.8            143.2            160.8   \n",
       "356            266.3            143.3            170.9   \n",
       "357            280.7            142.0            202.6   \n",
       "358            287.9            138.7            220.5   \n",
       "359            286.0            140.0            215.8   \n",
       "\n",
       "     STP_Inlet-Total_nitrogen_U  STP_Inlet-Total Phosphorus_U  \n",
       "0                          67.0                           6.3  \n",
       "1                          76.8                           6.1  \n",
       "2                          64.6                           5.7  \n",
       "3                          83.1                           6.1  \n",
       "4                          52.3                           5.0  \n",
       "..                          ...                           ...  \n",
       "355                         2.9                           6.8  \n",
       "356                         6.7                           6.8  \n",
       "357                         6.7                           6.9  \n",
       "358                         4.3                           6.5  \n",
       "359                         4.1                           6.4  \n",
       "\n",
       "[360 rows x 5 columns]"
      ]
     },
     "execution_count": 4,
     "metadata": {},
     "output_type": "execute_result"
    }
   ],
   "source": [
    "x= df.drop('STP_Outlet-COD_U', axis=1)\n",
    "x"
   ]
  },
  {
   "cell_type": "markdown",
   "id": "82100f37",
   "metadata": {},
   "source": [
    "## Data splitting"
   ]
  },
  {
   "cell_type": "code",
   "execution_count": 5,
   "id": "bccb7d49",
   "metadata": {},
   "outputs": [],
   "source": [
    "import numpy as np\n",
    "from sklearn.model_selection import train_test_split\n",
    "\n",
    "x_train, x_test, y_train, y_test = train_test_split(x, y, test_size=0.2, random_state=100)"
   ]
  },
  {
   "cell_type": "markdown",
   "id": "7e7fb7ea",
   "metadata": {},
   "source": [
    "### Training Data"
   ]
  },
  {
   "cell_type": "code",
   "execution_count": 6,
   "id": "ad35ae38",
   "metadata": {},
   "outputs": [
    {
     "data": {
      "text/html": [
       "<div>\n",
       "<style scoped>\n",
       "    .dataframe tbody tr th:only-of-type {\n",
       "        vertical-align: middle;\n",
       "    }\n",
       "\n",
       "    .dataframe tbody tr th {\n",
       "        vertical-align: top;\n",
       "    }\n",
       "\n",
       "    .dataframe thead th {\n",
       "        text-align: right;\n",
       "    }\n",
       "</style>\n",
       "<table border=\"1\" class=\"dataframe\">\n",
       "  <thead>\n",
       "    <tr style=\"text-align: right;\">\n",
       "      <th></th>\n",
       "      <th>STP_Inlet-COD_U</th>\n",
       "      <th>STP_Inlet-BOD_U</th>\n",
       "      <th>STP_Inlet-TSS_U</th>\n",
       "      <th>STP_Inlet-Total_nitrogen_U</th>\n",
       "      <th>STP_Inlet-Total Phosphorus_U</th>\n",
       "    </tr>\n",
       "  </thead>\n",
       "  <tbody>\n",
       "    <tr>\n",
       "      <th>310</th>\n",
       "      <td>229.6</td>\n",
       "      <td>128.4</td>\n",
       "      <td>141.5</td>\n",
       "      <td>1.7</td>\n",
       "      <td>6.6</td>\n",
       "    </tr>\n",
       "    <tr>\n",
       "      <th>239</th>\n",
       "      <td>197.8</td>\n",
       "      <td>71.0</td>\n",
       "      <td>154.5</td>\n",
       "      <td>13.7</td>\n",
       "      <td>6.7</td>\n",
       "    </tr>\n",
       "    <tr>\n",
       "      <th>60</th>\n",
       "      <td>169.7</td>\n",
       "      <td>61.4</td>\n",
       "      <td>111.3</td>\n",
       "      <td>35.6</td>\n",
       "      <td>5.8</td>\n",
       "    </tr>\n",
       "    <tr>\n",
       "      <th>221</th>\n",
       "      <td>205.7</td>\n",
       "      <td>101.8</td>\n",
       "      <td>140.1</td>\n",
       "      <td>18.0</td>\n",
       "      <td>6.8</td>\n",
       "    </tr>\n",
       "    <tr>\n",
       "      <th>264</th>\n",
       "      <td>209.5</td>\n",
       "      <td>106.5</td>\n",
       "      <td>140.4</td>\n",
       "      <td>1.8</td>\n",
       "      <td>6.7</td>\n",
       "    </tr>\n",
       "    <tr>\n",
       "      <th>...</th>\n",
       "      <td>...</td>\n",
       "      <td>...</td>\n",
       "      <td>...</td>\n",
       "      <td>...</td>\n",
       "      <td>...</td>\n",
       "    </tr>\n",
       "    <tr>\n",
       "      <th>79</th>\n",
       "      <td>179.1</td>\n",
       "      <td>70.3</td>\n",
       "      <td>130.3</td>\n",
       "      <td>68.7</td>\n",
       "      <td>6.6</td>\n",
       "    </tr>\n",
       "    <tr>\n",
       "      <th>343</th>\n",
       "      <td>272.3</td>\n",
       "      <td>145.6</td>\n",
       "      <td>222.9</td>\n",
       "      <td>1.5</td>\n",
       "      <td>6.4</td>\n",
       "    </tr>\n",
       "    <tr>\n",
       "      <th>323</th>\n",
       "      <td>232.5</td>\n",
       "      <td>125.2</td>\n",
       "      <td>146.6</td>\n",
       "      <td>1.7</td>\n",
       "      <td>5.7</td>\n",
       "    </tr>\n",
       "    <tr>\n",
       "      <th>280</th>\n",
       "      <td>217.5</td>\n",
       "      <td>112.9</td>\n",
       "      <td>141.2</td>\n",
       "      <td>1.6</td>\n",
       "      <td>6.4</td>\n",
       "    </tr>\n",
       "    <tr>\n",
       "      <th>8</th>\n",
       "      <td>169.2</td>\n",
       "      <td>62.5</td>\n",
       "      <td>109.5</td>\n",
       "      <td>73.5</td>\n",
       "      <td>6.7</td>\n",
       "    </tr>\n",
       "  </tbody>\n",
       "</table>\n",
       "<p>288 rows × 5 columns</p>\n",
       "</div>"
      ],
      "text/plain": [
       "     STP_Inlet-COD_U  STP_Inlet-BOD_U  STP_Inlet-TSS_U  \\\n",
       "310            229.6            128.4            141.5   \n",
       "239            197.8             71.0            154.5   \n",
       "60             169.7             61.4            111.3   \n",
       "221            205.7            101.8            140.1   \n",
       "264            209.5            106.5            140.4   \n",
       "..               ...              ...              ...   \n",
       "79             179.1             70.3            130.3   \n",
       "343            272.3            145.6            222.9   \n",
       "323            232.5            125.2            146.6   \n",
       "280            217.5            112.9            141.2   \n",
       "8              169.2             62.5            109.5   \n",
       "\n",
       "     STP_Inlet-Total_nitrogen_U  STP_Inlet-Total Phosphorus_U  \n",
       "310                         1.7                           6.6  \n",
       "239                        13.7                           6.7  \n",
       "60                         35.6                           5.8  \n",
       "221                        18.0                           6.8  \n",
       "264                         1.8                           6.7  \n",
       "..                          ...                           ...  \n",
       "79                         68.7                           6.6  \n",
       "343                         1.5                           6.4  \n",
       "323                         1.7                           5.7  \n",
       "280                         1.6                           6.4  \n",
       "8                          73.5                           6.7  \n",
       "\n",
       "[288 rows x 5 columns]"
      ]
     },
     "execution_count": 6,
     "metadata": {},
     "output_type": "execute_result"
    }
   ],
   "source": [
    "x_train"
   ]
  },
  {
   "cell_type": "markdown",
   "id": "8f135c86",
   "metadata": {},
   "source": [
    "### Testing Data"
   ]
  },
  {
   "cell_type": "code",
   "execution_count": 7,
   "id": "d96c740d",
   "metadata": {},
   "outputs": [
    {
     "data": {
      "text/html": [
       "<div>\n",
       "<style scoped>\n",
       "    .dataframe tbody tr th:only-of-type {\n",
       "        vertical-align: middle;\n",
       "    }\n",
       "\n",
       "    .dataframe tbody tr th {\n",
       "        vertical-align: top;\n",
       "    }\n",
       "\n",
       "    .dataframe thead th {\n",
       "        text-align: right;\n",
       "    }\n",
       "</style>\n",
       "<table border=\"1\" class=\"dataframe\">\n",
       "  <thead>\n",
       "    <tr style=\"text-align: right;\">\n",
       "      <th></th>\n",
       "      <th>STP_Inlet-COD_U</th>\n",
       "      <th>STP_Inlet-BOD_U</th>\n",
       "      <th>STP_Inlet-TSS_U</th>\n",
       "      <th>STP_Inlet-Total_nitrogen_U</th>\n",
       "      <th>STP_Inlet-Total Phosphorus_U</th>\n",
       "    </tr>\n",
       "  </thead>\n",
       "  <tbody>\n",
       "    <tr>\n",
       "      <th>234</th>\n",
       "      <td>200.6</td>\n",
       "      <td>104.6</td>\n",
       "      <td>133.9</td>\n",
       "      <td>3.1</td>\n",
       "      <td>5.6</td>\n",
       "    </tr>\n",
       "    <tr>\n",
       "      <th>75</th>\n",
       "      <td>176.4</td>\n",
       "      <td>67.4</td>\n",
       "      <td>129.1</td>\n",
       "      <td>92.2</td>\n",
       "      <td>6.6</td>\n",
       "    </tr>\n",
       "    <tr>\n",
       "      <th>339</th>\n",
       "      <td>242.6</td>\n",
       "      <td>134.4</td>\n",
       "      <td>149.1</td>\n",
       "      <td>1.5</td>\n",
       "      <td>5.3</td>\n",
       "    </tr>\n",
       "    <tr>\n",
       "      <th>88</th>\n",
       "      <td>179.3</td>\n",
       "      <td>70.8</td>\n",
       "      <td>130.9</td>\n",
       "      <td>70.5</td>\n",
       "      <td>6.4</td>\n",
       "    </tr>\n",
       "    <tr>\n",
       "      <th>152</th>\n",
       "      <td>183.8</td>\n",
       "      <td>79.7</td>\n",
       "      <td>130.8</td>\n",
       "      <td>6.4</td>\n",
       "      <td>5.5</td>\n",
       "    </tr>\n",
       "    <tr>\n",
       "      <th>...</th>\n",
       "      <td>...</td>\n",
       "      <td>...</td>\n",
       "      <td>...</td>\n",
       "      <td>...</td>\n",
       "      <td>...</td>\n",
       "    </tr>\n",
       "    <tr>\n",
       "      <th>188</th>\n",
       "      <td>188.6</td>\n",
       "      <td>80.3</td>\n",
       "      <td>137.9</td>\n",
       "      <td>4.6</td>\n",
       "      <td>4.3</td>\n",
       "    </tr>\n",
       "    <tr>\n",
       "      <th>84</th>\n",
       "      <td>181.8</td>\n",
       "      <td>73.2</td>\n",
       "      <td>132.1</td>\n",
       "      <td>57.4</td>\n",
       "      <td>6.3</td>\n",
       "    </tr>\n",
       "    <tr>\n",
       "      <th>3</th>\n",
       "      <td>173.2</td>\n",
       "      <td>63.3</td>\n",
       "      <td>112.2</td>\n",
       "      <td>83.1</td>\n",
       "      <td>6.1</td>\n",
       "    </tr>\n",
       "    <tr>\n",
       "      <th>271</th>\n",
       "      <td>205.8</td>\n",
       "      <td>99.8</td>\n",
       "      <td>138.4</td>\n",
       "      <td>1.6</td>\n",
       "      <td>6.8</td>\n",
       "    </tr>\n",
       "    <tr>\n",
       "      <th>97</th>\n",
       "      <td>183.6</td>\n",
       "      <td>77.5</td>\n",
       "      <td>131.1</td>\n",
       "      <td>57.7</td>\n",
       "      <td>6.6</td>\n",
       "    </tr>\n",
       "  </tbody>\n",
       "</table>\n",
       "<p>72 rows × 5 columns</p>\n",
       "</div>"
      ],
      "text/plain": [
       "     STP_Inlet-COD_U  STP_Inlet-BOD_U  STP_Inlet-TSS_U  \\\n",
       "234            200.6            104.6            133.9   \n",
       "75             176.4             67.4            129.1   \n",
       "339            242.6            134.4            149.1   \n",
       "88             179.3             70.8            130.9   \n",
       "152            183.8             79.7            130.8   \n",
       "..               ...              ...              ...   \n",
       "188            188.6             80.3            137.9   \n",
       "84             181.8             73.2            132.1   \n",
       "3              173.2             63.3            112.2   \n",
       "271            205.8             99.8            138.4   \n",
       "97             183.6             77.5            131.1   \n",
       "\n",
       "     STP_Inlet-Total_nitrogen_U  STP_Inlet-Total Phosphorus_U  \n",
       "234                         3.1                           5.6  \n",
       "75                         92.2                           6.6  \n",
       "339                         1.5                           5.3  \n",
       "88                         70.5                           6.4  \n",
       "152                         6.4                           5.5  \n",
       "..                          ...                           ...  \n",
       "188                         4.6                           4.3  \n",
       "84                         57.4                           6.3  \n",
       "3                          83.1                           6.1  \n",
       "271                         1.6                           6.8  \n",
       "97                         57.7                           6.6  \n",
       "\n",
       "[72 rows x 5 columns]"
      ]
     },
     "execution_count": 7,
     "metadata": {},
     "output_type": "execute_result"
    }
   ],
   "source": [
    "x_test"
   ]
  },
  {
   "cell_type": "code",
   "execution_count": 8,
   "id": "c07d0c7d",
   "metadata": {},
   "outputs": [
    {
     "data": {
      "text/plain": [
       "310    42.2\n",
       "239    45.4\n",
       "60     41.7\n",
       "221    44.4\n",
       "264    47.5\n",
       "       ... \n",
       "79     42.0\n",
       "343    39.1\n",
       "323    49.5\n",
       "280    45.6\n",
       "8      59.7\n",
       "Name: STP_Outlet-COD_U, Length: 288, dtype: float64"
      ]
     },
     "execution_count": 8,
     "metadata": {},
     "output_type": "execute_result"
    }
   ],
   "source": [
    "y_train"
   ]
  },
  {
   "cell_type": "markdown",
   "id": "c4cf0628",
   "metadata": {},
   "source": [
    "## Model Building"
   ]
  },
  {
   "cell_type": "markdown",
   "id": "84a49c98",
   "metadata": {},
   "source": [
    "### Random Forest"
   ]
  },
  {
   "cell_type": "markdown",
   "id": "7fedc7c3",
   "metadata": {},
   "source": [
    "### Training"
   ]
  },
  {
   "cell_type": "code",
   "execution_count": 9,
   "id": "bf49e001-fbbf-442b-93f2-f5be3219cd9a",
   "metadata": {},
   "outputs": [
    {
     "data": {
      "text/html": [
       "<style>#sk-container-id-1 {color: black;}#sk-container-id-1 pre{padding: 0;}#sk-container-id-1 div.sk-toggleable {background-color: white;}#sk-container-id-1 label.sk-toggleable__label {cursor: pointer;display: block;width: 100%;margin-bottom: 0;padding: 0.3em;box-sizing: border-box;text-align: center;}#sk-container-id-1 label.sk-toggleable__label-arrow:before {content: \"▸\";float: left;margin-right: 0.25em;color: #696969;}#sk-container-id-1 label.sk-toggleable__label-arrow:hover:before {color: black;}#sk-container-id-1 div.sk-estimator:hover label.sk-toggleable__label-arrow:before {color: black;}#sk-container-id-1 div.sk-toggleable__content {max-height: 0;max-width: 0;overflow: hidden;text-align: left;background-color: #f0f8ff;}#sk-container-id-1 div.sk-toggleable__content pre {margin: 0.2em;color: black;border-radius: 0.25em;background-color: #f0f8ff;}#sk-container-id-1 input.sk-toggleable__control:checked~div.sk-toggleable__content {max-height: 200px;max-width: 100%;overflow: auto;}#sk-container-id-1 input.sk-toggleable__control:checked~label.sk-toggleable__label-arrow:before {content: \"▾\";}#sk-container-id-1 div.sk-estimator input.sk-toggleable__control:checked~label.sk-toggleable__label {background-color: #d4ebff;}#sk-container-id-1 div.sk-label input.sk-toggleable__control:checked~label.sk-toggleable__label {background-color: #d4ebff;}#sk-container-id-1 input.sk-hidden--visually {border: 0;clip: rect(1px 1px 1px 1px);clip: rect(1px, 1px, 1px, 1px);height: 1px;margin: -1px;overflow: hidden;padding: 0;position: absolute;width: 1px;}#sk-container-id-1 div.sk-estimator {font-family: monospace;background-color: #f0f8ff;border: 1px dotted black;border-radius: 0.25em;box-sizing: border-box;margin-bottom: 0.5em;}#sk-container-id-1 div.sk-estimator:hover {background-color: #d4ebff;}#sk-container-id-1 div.sk-parallel-item::after {content: \"\";width: 100%;border-bottom: 1px solid gray;flex-grow: 1;}#sk-container-id-1 div.sk-label:hover label.sk-toggleable__label {background-color: #d4ebff;}#sk-container-id-1 div.sk-serial::before {content: \"\";position: absolute;border-left: 1px solid gray;box-sizing: border-box;top: 0;bottom: 0;left: 50%;z-index: 0;}#sk-container-id-1 div.sk-serial {display: flex;flex-direction: column;align-items: center;background-color: white;padding-right: 0.2em;padding-left: 0.2em;position: relative;}#sk-container-id-1 div.sk-item {position: relative;z-index: 1;}#sk-container-id-1 div.sk-parallel {display: flex;align-items: stretch;justify-content: center;background-color: white;position: relative;}#sk-container-id-1 div.sk-item::before, #sk-container-id-1 div.sk-parallel-item::before {content: \"\";position: absolute;border-left: 1px solid gray;box-sizing: border-box;top: 0;bottom: 0;left: 50%;z-index: -1;}#sk-container-id-1 div.sk-parallel-item {display: flex;flex-direction: column;z-index: 1;position: relative;background-color: white;}#sk-container-id-1 div.sk-parallel-item:first-child::after {align-self: flex-end;width: 50%;}#sk-container-id-1 div.sk-parallel-item:last-child::after {align-self: flex-start;width: 50%;}#sk-container-id-1 div.sk-parallel-item:only-child::after {width: 0;}#sk-container-id-1 div.sk-dashed-wrapped {border: 1px dashed gray;margin: 0 0.4em 0.5em 0.4em;box-sizing: border-box;padding-bottom: 0.4em;background-color: white;}#sk-container-id-1 div.sk-label label {font-family: monospace;font-weight: bold;display: inline-block;line-height: 1.2em;}#sk-container-id-1 div.sk-label-container {text-align: center;}#sk-container-id-1 div.sk-container {/* jupyter's `normalize.less` sets `[hidden] { display: none; }` but bootstrap.min.css set `[hidden] { display: none !important; }` so we also need the `!important` here to be able to override the default hidden behavior on the sphinx rendered scikit-learn.org. See: https://github.com/scikit-learn/scikit-learn/issues/21755 */display: inline-block !important;position: relative;}#sk-container-id-1 div.sk-text-repr-fallback {display: none;}</style><div id=\"sk-container-id-1\" class=\"sk-top-container\"><div class=\"sk-text-repr-fallback\"><pre>RandomForestRegressor(max_depth=20, random_state=100)</pre><b>In a Jupyter environment, please rerun this cell to show the HTML representation or trust the notebook. <br />On GitHub, the HTML representation is unable to render, please try loading this page with nbviewer.org.</b></div><div class=\"sk-container\" hidden><div class=\"sk-item\"><div class=\"sk-estimator sk-toggleable\"><input class=\"sk-toggleable__control sk-hidden--visually\" id=\"sk-estimator-id-1\" type=\"checkbox\" checked><label for=\"sk-estimator-id-1\" class=\"sk-toggleable__label sk-toggleable__label-arrow\">RandomForestRegressor</label><div class=\"sk-toggleable__content\"><pre>RandomForestRegressor(max_depth=20, random_state=100)</pre></div></div></div></div></div>"
      ],
      "text/plain": [
       "RandomForestRegressor(max_depth=20, random_state=100)"
      ]
     },
     "execution_count": 9,
     "metadata": {},
     "output_type": "execute_result"
    }
   ],
   "source": [
    "rf= RandomForestRegressor( max_depth= 20, random_state=100)\n",
    "rf.fit(x_train, y_train)"
   ]
  },
  {
   "cell_type": "markdown",
   "id": "b22eedf0",
   "metadata": {},
   "source": [
    "### Prediction by model"
   ]
  },
  {
   "cell_type": "code",
   "execution_count": 10,
   "id": "df18a3fa",
   "metadata": {},
   "outputs": [],
   "source": [
    "y_rf_train_pred= rf.predict(x_train)\n",
    "y_rf_test_pred= rf.predict(x_test)"
   ]
  },
  {
   "cell_type": "markdown",
   "id": "1993d2ef",
   "metadata": {},
   "source": [
    "### Evaluation of Model"
   ]
  },
  {
   "cell_type": "code",
   "execution_count": 11,
   "id": "b47d54d7",
   "metadata": {},
   "outputs": [],
   "source": [
    "from sklearn.metrics import mean_squared_error, r2_score\n",
    "\n",
    "rf_train_mse= mean_squared_error(y_train, y_rf_train_pred)\n",
    "rf_train_r2= r2_score(y_train, y_rf_train_pred)\n",
    "\n",
    "rf_test_mse= mean_squared_error(y_test, y_rf_test_pred)\n",
    "rf_test_r2= r2_score(y_test, y_rf_test_pred)"
   ]
  },
  {
   "cell_type": "code",
   "execution_count": 12,
   "id": "d4331464",
   "metadata": {},
   "outputs": [
    {
     "data": {
      "text/plain": [
       "0.22204772288903285"
      ]
     },
     "execution_count": 12,
     "metadata": {},
     "output_type": "execute_result"
    }
   ],
   "source": [
    "rf_test_r2"
   ]
  },
  {
   "cell_type": "code",
   "execution_count": 13,
   "id": "0f378fc6",
   "metadata": {},
   "outputs": [
    {
     "data": {
      "text/html": [
       "<div>\n",
       "<style scoped>\n",
       "    .dataframe tbody tr th:only-of-type {\n",
       "        vertical-align: middle;\n",
       "    }\n",
       "\n",
       "    .dataframe tbody tr th {\n",
       "        vertical-align: top;\n",
       "    }\n",
       "\n",
       "    .dataframe thead th {\n",
       "        text-align: right;\n",
       "    }\n",
       "</style>\n",
       "<table border=\"1\" class=\"dataframe\">\n",
       "  <thead>\n",
       "    <tr style=\"text-align: right;\">\n",
       "      <th></th>\n",
       "      <th>0</th>\n",
       "      <th>1</th>\n",
       "      <th>2</th>\n",
       "      <th>3</th>\n",
       "      <th>4</th>\n",
       "    </tr>\n",
       "  </thead>\n",
       "  <tbody>\n",
       "    <tr>\n",
       "      <th>0</th>\n",
       "      <td>Random Forest</td>\n",
       "      <td>1.714572</td>\n",
       "      <td>0.901009</td>\n",
       "      <td>16.217226</td>\n",
       "      <td>0.222048</td>\n",
       "    </tr>\n",
       "  </tbody>\n",
       "</table>\n",
       "</div>"
      ],
      "text/plain": [
       "               0         1         2          3         4\n",
       "0  Random Forest  1.714572  0.901009  16.217226  0.222048"
      ]
     },
     "execution_count": 13,
     "metadata": {},
     "output_type": "execute_result"
    }
   ],
   "source": [
    "import pandas as pd\n",
    "rf_results= pd.DataFrame(['Random Forest', rf_train_mse, rf_train_r2, rf_test_mse, rf_test_r2]).transpose()\n",
    "rf_results"
   ]
  },
  {
   "cell_type": "markdown",
   "id": "d8c2a304-e61b-46e6-8916-cffbf4142967",
   "metadata": {},
   "source": [
    "### Results of Testing set"
   ]
  },
  {
   "cell_type": "code",
   "execution_count": 14,
   "id": "855bdf6c-8773-4636-aca6-5c93c4a511c5",
   "metadata": {},
   "outputs": [
    {
     "data": {
      "text/html": [
       "<div>\n",
       "<style scoped>\n",
       "    .dataframe tbody tr th:only-of-type {\n",
       "        vertical-align: middle;\n",
       "    }\n",
       "\n",
       "    .dataframe tbody tr th {\n",
       "        vertical-align: top;\n",
       "    }\n",
       "\n",
       "    .dataframe thead th {\n",
       "        text-align: right;\n",
       "    }\n",
       "</style>\n",
       "<table border=\"1\" class=\"dataframe\">\n",
       "  <thead>\n",
       "    <tr style=\"text-align: right;\">\n",
       "      <th></th>\n",
       "      <th>0</th>\n",
       "      <th>1</th>\n",
       "      <th>2</th>\n",
       "      <th>3</th>\n",
       "      <th>4</th>\n",
       "    </tr>\n",
       "  </thead>\n",
       "  <tbody>\n",
       "    <tr>\n",
       "      <th>0</th>\n",
       "      <td>Random Forest</td>\n",
       "      <td>1.714572</td>\n",
       "      <td>0.901009</td>\n",
       "      <td>16.217226</td>\n",
       "      <td>0.222048</td>\n",
       "    </tr>\n",
       "  </tbody>\n",
       "</table>\n",
       "</div>"
      ],
      "text/plain": [
       "               0         1         2          3         4\n",
       "0  Random Forest  1.714572  0.901009  16.217226  0.222048"
      ]
     },
     "execution_count": 14,
     "metadata": {},
     "output_type": "execute_result"
    }
   ],
   "source": [
    "import pandas as pd\n",
    "rf_results= pd.DataFrame(['Random Forest', rf_train_mse, rf_train_r2, rf_test_mse, rf_test_r2]).transpose()\n",
    "rf_results"
   ]
  },
  {
   "cell_type": "markdown",
   "id": "d783302b-3df1-4b6d-8d5d-ae17a017de3b",
   "metadata": {},
   "source": [
    "### Results of Training Set"
   ]
  },
  {
   "cell_type": "code",
   "execution_count": 15,
   "id": "3a5c6183",
   "metadata": {},
   "outputs": [
    {
     "data": {
      "text/html": [
       "<div>\n",
       "<style scoped>\n",
       "    .dataframe tbody tr th:only-of-type {\n",
       "        vertical-align: middle;\n",
       "    }\n",
       "\n",
       "    .dataframe tbody tr th {\n",
       "        vertical-align: top;\n",
       "    }\n",
       "\n",
       "    .dataframe thead th {\n",
       "        text-align: right;\n",
       "    }\n",
       "</style>\n",
       "<table border=\"1\" class=\"dataframe\">\n",
       "  <thead>\n",
       "    <tr style=\"text-align: right;\">\n",
       "      <th></th>\n",
       "      <th>Methods</th>\n",
       "      <th>Train MSE</th>\n",
       "      <th>Train R2</th>\n",
       "      <th>Test MSE</th>\n",
       "      <th>Test R2</th>\n",
       "    </tr>\n",
       "  </thead>\n",
       "  <tbody>\n",
       "    <tr>\n",
       "      <th>0</th>\n",
       "      <td>Random Forest</td>\n",
       "      <td>1.714572</td>\n",
       "      <td>0.901009</td>\n",
       "      <td>16.217226</td>\n",
       "      <td>0.222048</td>\n",
       "    </tr>\n",
       "  </tbody>\n",
       "</table>\n",
       "</div>"
      ],
      "text/plain": [
       "         Methods Train MSE  Train R2   Test MSE   Test R2\n",
       "0  Random Forest  1.714572  0.901009  16.217226  0.222048"
      ]
     },
     "execution_count": 15,
     "metadata": {},
     "output_type": "execute_result"
    }
   ],
   "source": [
    "rf_results.columns = ['Methods', 'Train MSE','Train R2', 'Test MSE', 'Test R2']\n",
    "rf_results"
   ]
  },
  {
   "cell_type": "markdown",
   "id": "468bdae4",
   "metadata": {},
   "source": [
    "#### The lower the MSE, the better the model predictive accuracy, and, the better the regression model is.The greater the value of R-Squared, the better is the regression model."
   ]
  },
  {
   "cell_type": "code",
   "execution_count": 16,
   "id": "8422853f",
   "metadata": {},
   "outputs": [],
   "source": [
    "import matplotlib.pyplot as plt\n",
    "import numpy as num"
   ]
  },
  {
   "cell_type": "code",
   "execution_count": 19,
   "id": "eb7cad78",
   "metadata": {},
   "outputs": [
    {
     "data": {
      "text/plain": [
       "Text(0, 0.5, 'Y_Test_Prediction')"
      ]
     },
     "execution_count": 19,
     "metadata": {},
     "output_type": "execute_result"
    },
    {
     "data": {
      "image/png": "[encoded data removed]",
      "text/plain": [
       "<Figure size 500x500 with 1 Axes>"
      ]
     },
     "metadata": {},
     "output_type": "display_data"
    }
   ],
   "source": [
    "plt.figure(figsize=(5,5))\n",
    "plt.title('RF (Outlet COD)')\n",
    "plt.scatter (y=y_rf_train_pred, x=y_train, label='Original')\n",
    "\n",
    "\n",
    "\n",
    "z= np.polyfit (y_train, y_rf_train_pred,1)\n",
    "p= np.poly1d(z)\n",
    "\n",
    "plt.plot(y_test, p(y_test), '#F8776D')\n",
    "plt.xlabel('Y Test')\n",
    "plt.ylabel('Y_Test_Prediction')"
   ]
  },
  {
   "cell_type": "code",
   "execution_count": 18,
   "id": "ef42054a",
   "metadata": {},
   "outputs": [
    {
     "data": {
      "text/plain": [
       "Text(0, 0.5, 'Y_Test_Prediction')"
      ]
     },
     "execution_count": 18,
     "metadata": {},
     "output_type": "execute_result"
    },
    {
     "data": {
      "image/png": "[encoded data removed]",
      "text/plain": [
       "<Figure size 500x500 with 1 Axes>"
      ]
     },
     "metadata": {},
     "output_type": "display_data"
    }
   ],
   "source": [
    "plt.figure(figsize=(5,5))\n",
    "\n",
    "plt.scatter (y=y_rf_test_pred, x=y_test, label='Original')\n",
    "\n",
    "\n",
    "\n",
    "z= np.polyfit (y_test, y_rf_test_pred,1)\n",
    "p= np.poly1d(z)\n",
    "\n",
    "plt.plot(y_test, p(y_test), '#F8776D')\n",
    "plt.xlabel('Y Test')\n",
    "plt.ylabel('Y_Test_Prediction')"
   ]
  },
  {
   "cell_type": "code",
   "execution_count": null,
   "id": "a06b5b1f-d146-40ae-918e-51fd9b893fb4",
   "metadata": {},
   "outputs": [],
   "source": []
  }
 ],
 "metadata": {
  "kernelspec": {
   "display_name": "Python 3 (ipykernel)",
   "language": "python",
   "name": "python3"
  },
  "language_info": {
   "codemirror_mode": {
    "name": "ipython",
    "version": 3
   },
   "file_extension": ".py",
   "mimetype": "text/x-python",
   "name": "python",
   "nbconvert_exporter": "python",
   "pygments_lexer": "ipython3",
   "version": "3.11.5"
  }
 },
 "nbformat": 4,
 "nbformat_minor": 5
}
